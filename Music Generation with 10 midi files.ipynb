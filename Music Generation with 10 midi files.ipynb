{
 "cells": [
  {
   "cell_type": "code",
   "execution_count": 4,
   "metadata": {},
   "outputs": [],
   "source": [
    "import numpy as np\n",
    "import tensorflow as tf\n",
    "import pandas as pd\n",
    "import glob\n",
    "from tqdm import tqdm\n",
    "from music21 import *\n",
    "from tensorflow.python.ops import control_flow_ops\n",
    "from keras.models import Sequential\n",
    "from keras.layers import Dense\n",
    "from keras.layers import Dropout\n",
    "from keras.layers import LSTM\n",
    "from keras.layers import Activation\n",
    "from keras.utils import np_utils\n",
    "from keras.callbacks import ModelCheckpoint"
   ]
  },
  {
   "cell_type": "code",
   "execution_count": 5,
   "metadata": {},
   "outputs": [],
   "source": [
    "notes = []\n",
    "for file in glob.glob(\"*.mid\"):\n",
    "    midi = converter.parse(file)\n",
    "    notes_to_parse = None\n",
    "    parts = instrument.partitionByInstrument(midi)\n",
    "    if parts: # file has instrument parts\n",
    "        notes_to_parse = parts.parts[0].recurse()\n",
    "    else: # file has notes in a flat structure\n",
    "        notes_to_parse = midi.flat.notes\n",
    "    for element in notes_to_parse:\n",
    "        if isinstance(element, note.Note):\n",
    "            notes.append(str(element.pitch))\n",
    "        elif isinstance(element, chord.Chord):\n",
    "            notes.append('.'.join(str(n) for n in element.normalOrder))"
   ]
  },
  {
   "cell_type": "code",
   "execution_count": 6,
   "metadata": {
    "collapsed": true
   },
   "outputs": [],
   "source": [
    "n_vocab=len(set(notes))"
   ]
  },
  {
   "cell_type": "code",
   "execution_count": 7,
   "metadata": {
    "collapsed": true
   },
   "outputs": [],
   "source": [
    "sequence_length = 100\n",
    "# get all pitch names\n",
    "pitchnames = sorted(set(item for item in notes))\n",
    "# create a dictionary to map pitches to integers\n",
    "note_to_int = dict((note, number) for number, note in enumerate(pitchnames))\n",
    "network_input = []\n",
    "network_output = []\n",
    "# create input sequences and the corresponding outputs\n",
    "for i in range(0, len(notes) - sequence_length, 1):\n",
    "    sequence_in = notes[i:i + sequence_length]\n",
    "    sequence_out = notes[i + sequence_length]\n",
    "    network_input.append([note_to_int[char] for char in sequence_in])\n",
    "    network_output.append(note_to_int[sequence_out])\n",
    "n_patterns = len(network_input)\n",
    "# reshape the input into a format compatible with LSTM layers\n",
    "network_input = np.reshape(network_input, (n_patterns, sequence_length, 1))\n",
    "# normalize input\n",
    "network_input = network_input / float(n_vocab)\n",
    "network_output = np_utils.to_categorical(network_output)"
   ]
  },
  {
   "cell_type": "code",
   "execution_count": 8,
   "metadata": {
    "collapsed": true
   },
   "outputs": [],
   "source": [
    "model = Sequential()\n",
    "model.add(LSTM(256,input_shape=(network_input.shape[1], network_input.shape[2]),return_sequences=True))\n",
    "model.add(Dropout(0.3))\n",
    "model.add(LSTM(512, return_sequences=True))\n",
    "model.add(Dropout(0.3))\n",
    "model.add(LSTM(256))\n",
    "model.add(Dense(256))\n",
    "model.add(Dropout(0.3))\n",
    "model.add(Dense(n_vocab))\n",
    "model.add(Activation('softmax'))\n",
    "model.compile(loss='categorical_crossentropy', optimizer='rmsprop')"
   ]
  },
  {
   "cell_type": "code",
   "execution_count": null,
   "metadata": {
    "scrolled": true
   },
   "outputs": [
    {
     "name": "stdout",
     "output_type": "stream",
     "text": [
      "Epoch 1/10\n"
     ]
    },
    {
     "name": "stdout",
     "output_type": "stream",
     "text": [
      "20032/34822 [================>.............] - ETA: 1435s - loss: 4.88 - ETA: 1418s - loss: 4.75 - ETA: 1417s - loss: 4.74 - ETA: 1419s - loss: 4.77 - ETA: 1420s - loss: 4.74 - ETA: 1426s - loss: 4.75 - ETA: 1422s - loss: 4.75 - ETA: 1419s - loss: 4.76 - ETA: 1416s - loss: 4.77 - ETA: 1414s - loss: 4.77 - ETA: 1413s - loss: 4.75 - ETA: 1411s - loss: 4.75 - ETA: 1409s - loss: 4.76 - ETA: 1407s - loss: 4.75 - ETA: 1406s - loss: 4.74 - ETA: 1404s - loss: 4.74 - ETA: 1404s - loss: 4.73 - ETA: 1403s - loss: 4.72 - ETA: 1402s - loss: 4.74 - ETA: 1400s - loss: 4.73 - ETA: 1401s - loss: 4.73 - ETA: 1400s - loss: 4.73 - ETA: 1399s - loss: 4.73 - ETA: 1398s - loss: 4.72 - ETA: 1397s - loss: 4.72 - ETA: 1397s - loss: 4.72 - ETA: 1396s - loss: 4.72 - ETA: 1394s - loss: 4.71 - ETA: 1392s - loss: 4.72 - ETA: 1390s - loss: 4.71 - ETA: 1388s - loss: 4.72 - ETA: 1386s - loss: 4.72 - ETA: 1385s - loss: 4.71 - ETA: 1383s - loss: 4.72 - ETA: 1381s - loss: 4.72 - ETA: 1380s - loss: 4.72 - ETA: 1378s - loss: 4.72 - ETA: 1376s - loss: 4.72 - ETA: 1374s - loss: 4.72 - ETA: 1372s - loss: 4.72 - ETA: 1371s - loss: 4.71 - ETA: 1369s - loss: 4.72 - ETA: 1367s - loss: 4.72 - ETA: 1366s - loss: 4.72 - ETA: 1364s - loss: 4.71 - ETA: 1363s - loss: 4.71 - ETA: 1361s - loss: 4.71 - ETA: 1359s - loss: 4.72 - ETA: 1358s - loss: 4.72 - ETA: 1356s - loss: 4.72 - ETA: 1355s - loss: 4.72 - ETA: 1353s - loss: 4.72 - ETA: 1351s - loss: 4.72 - ETA: 1350s - loss: 4.72 - ETA: 1348s - loss: 4.72 - ETA: 1347s - loss: 4.72 - ETA: 1345s - loss: 4.72 - ETA: 1344s - loss: 4.72 - ETA: 1341s - loss: 4.72 - ETA: 1339s - loss: 4.72 - ETA: 1337s - loss: 4.71 - ETA: 1335s - loss: 4.71 - ETA: 1333s - loss: 4.72 - ETA: 1330s - loss: 4.72 - ETA: 1328s - loss: 4.72 - ETA: 1326s - loss: 4.71 - ETA: 1323s - loss: 4.71 - ETA: 1321s - loss: 4.71 - ETA: 1319s - loss: 4.71 - ETA: 1316s - loss: 4.71 - ETA: 1314s - loss: 4.71 - ETA: 1312s - loss: 4.71 - ETA: 1310s - loss: 4.71 - ETA: 1307s - loss: 4.71 - ETA: 1305s - loss: 4.71 - ETA: 1303s - loss: 4.71 - ETA: 1300s - loss: 4.71 - ETA: 1298s - loss: 4.71 - ETA: 1296s - loss: 4.71 - ETA: 1293s - loss: 4.71 - ETA: 1291s - loss: 4.71 - ETA: 1290s - loss: 4.71 - ETA: 1287s - loss: 4.71 - ETA: 1285s - loss: 4.71 - ETA: 1282s - loss: 4.70 - ETA: 1281s - loss: 4.70 - ETA: 1278s - loss: 4.70 - ETA: 1276s - loss: 4.70 - ETA: 1273s - loss: 4.70 - ETA: 1271s - loss: 4.70 - ETA: 1268s - loss: 4.70 - ETA: 1266s - loss: 4.70 - ETA: 1263s - loss: 4.70 - ETA: 1260s - loss: 4.70 - ETA: 1258s - loss: 4.70 - ETA: 1255s - loss: 4.70 - ETA: 1253s - loss: 4.70 - ETA: 1250s - loss: 4.70 - ETA: 1248s - loss: 4.70 - ETA: 1245s - loss: 4.69 - ETA: 1243s - loss: 4.69 - ETA: 1240s - loss: 4.69 - ETA: 1237s - loss: 4.69 - ETA: 1235s - loss: 4.69 - ETA: 1232s - loss: 4.69 - ETA: 1230s - loss: 4.69 - ETA: 1227s - loss: 4.69 - ETA: 1224s - loss: 4.69 - ETA: 1222s - loss: 4.69 - ETA: 1219s - loss: 4.69 - ETA: 1217s - loss: 4.69 - ETA: 1214s - loss: 4.69 - ETA: 1211s - loss: 4.69 - ETA: 1209s - loss: 4.69 - ETA: 1206s - loss: 4.69 - ETA: 1203s - loss: 4.69 - ETA: 1201s - loss: 4.69 - ETA: 1198s - loss: 4.69 - ETA: 1195s - loss: 4.69 - ETA: 1193s - loss: 4.69 - ETA: 1190s - loss: 4.69 - ETA: 1187s - loss: 4.69 - ETA: 1185s - loss: 4.69 - ETA: 1182s - loss: 4.69 - ETA: 1180s - loss: 4.69 - ETA: 1177s - loss: 4.69 - ETA: 1174s - loss: 4.69 - ETA: 1171s - loss: 4.69 - ETA: 1169s - loss: 4.69 - ETA: 1166s - loss: 4.69 - ETA: 1163s - loss: 4.69 - ETA: 1160s - loss: 4.69 - ETA: 1158s - loss: 4.69 - ETA: 1155s - loss: 4.69 - ETA: 1152s - loss: 4.69 - ETA: 1150s - loss: 4.69 - ETA: 1147s - loss: 4.69 - ETA: 1144s - loss: 4.69 - ETA: 1141s - loss: 4.69 - ETA: 1139s - loss: 4.69 - ETA: 1136s - loss: 4.69 - ETA: 1133s - loss: 4.69 - ETA: 1130s - loss: 4.68 - ETA: 1128s - loss: 4.69 - ETA: 1125s - loss: 4.69 - ETA: 1122s - loss: 4.69 - ETA: 1120s - loss: 4.69 - ETA: 1117s - loss: 4.68 - ETA: 1114s - loss: 4.68 - ETA: 1111s - loss: 4.68 - ETA: 1109s - loss: 4.68 - ETA: 1106s - loss: 4.68 - ETA: 1103s - loss: 4.68 - ETA: 1101s - loss: 4.68 - ETA: 1098s - loss: 4.68 - ETA: 1095s - loss: 4.68 - ETA: 1092s - loss: 4.68 - ETA: 1090s - loss: 4.68 - ETA: 1087s - loss: 4.68 - ETA: 1084s - loss: 4.68 - ETA: 1081s - loss: 4.68 - ETA: 1079s - loss: 4.68 - ETA: 1076s - loss: 4.68 - ETA: 1073s - loss: 4.68 - ETA: 1070s - loss: 4.68 - ETA: 1068s - loss: 4.68 - ETA: 1065s - loss: 4.68 - ETA: 1062s - loss: 4.68 - ETA: 1059s - loss: 4.68 - ETA: 1057s - loss: 4.68 - ETA: 1054s - loss: 4.68 - ETA: 1051s - loss: 4.68 - ETA: 1048s - loss: 4.68 - ETA: 1045s - loss: 4.68 - ETA: 1043s - loss: 4.68 - ETA: 1040s - loss: 4.68 - ETA: 1037s - loss: 4.68 - ETA: 1035s - loss: 4.68 - ETA: 1032s - loss: 4.68 - ETA: 1029s - loss: 4.68 - ETA: 1026s - loss: 4.68 - ETA: 1023s - loss: 4.68 - ETA: 1021s - loss: 4.68 - ETA: 1018s - loss: 4.68 - ETA: 1015s - loss: 4.68 - ETA: 1012s - loss: 4.68 - ETA: 1010s - loss: 4.68 - ETA: 1007s - loss: 4.68 - ETA: 1004s - loss: 4.68 - ETA: 1001s - loss: 4.68 - ETA: 998s - loss: 4.6843 - ETA: 996s - loss: 4.684 - ETA: 993s - loss: 4.684 - ETA: 990s - loss: 4.685 - ETA: 987s - loss: 4.684 - ETA: 985s - loss: 4.684 - ETA: 982s - loss: 4.683 - ETA: 979s - loss: 4.683 - ETA: 976s - loss: 4.684 - ETA: 974s - loss: 4.684 - ETA: 971s - loss: 4.684 - ETA: 968s - loss: 4.683 - ETA: 966s - loss: 4.684 - ETA: 963s - loss: 4.684 - ETA: 960s - loss: 4.683 - ETA: 957s - loss: 4.683 - ETA: 955s - loss: 4.682 - ETA: 952s - loss: 4.683 - ETA: 949s - loss: 4.683 - ETA: 946s - loss: 4.682 - ETA: 944s - loss: 4.682 - ETA: 941s - loss: 4.682 - ETA: 938s - loss: 4.682 - ETA: 936s - loss: 4.682 - ETA: 933s - loss: 4.681 - ETA: 930s - loss: 4.681 - ETA: 927s - loss: 4.681 - ETA: 925s - loss: 4.681 - ETA: 922s - loss: 4.680 - ETA: 919s - loss: 4.681 - ETA: 916s - loss: 4.680 - ETA: 914s - loss: 4.679 - ETA: 911s - loss: 4.680 - ETA: 908s - loss: 4.679 - ETA: 905s - loss: 4.678 - ETA: 903s - loss: 4.678 - ETA: 900s - loss: 4.678 - ETA: 897s - loss: 4.678 - ETA: 894s - loss: 4.678 - ETA: 892s - loss: 4.677 - ETA: 889s - loss: 4.676 - ETA: 886s - loss: 4.676 - ETA: 883s - loss: 4.677 - ETA: 881s - loss: 4.676 - ETA: 878s - loss: 4.676 - ETA: 875s - loss: 4.676 - ETA: 872s - loss: 4.675 - ETA: 870s - loss: 4.675 - ETA: 867s - loss: 4.677 - ETA: 864s - loss: 4.676 - ETA: 861s - loss: 4.676 - ETA: 859s - loss: 4.676 - ETA: 856s - loss: 4.678 - ETA: 853s - loss: 4.678 - ETA: 850s - loss: 4.678 - ETA: 847s - loss: 4.678 - ETA: 845s - loss: 4.677 - ETA: 842s - loss: 4.678 - ETA: 839s - loss: 4.678 - ETA: 836s - loss: 4.678 - ETA: 834s - loss: 4.678 - ETA: 831s - loss: 4.677 - ETA: 828s - loss: 4.679 - ETA: 825s - loss: 4.679 - ETA: 822s - loss: 4.679 - ETA: 820s - loss: 4.679 - ETA: 817s - loss: 4.679 - ETA: 814s - loss: 4.678 - ETA: 811s - loss: 4.678 - ETA: 809s - loss: 4.678 - ETA: 806s - loss: 4.677 - ETA: 803s - loss: 4.678 - ETA: 800s - loss: 4.678 - ETA: 797s - loss: 4.677 - ETA: 795s - loss: 4.677 - ETA: 792s - loss: 4.677 - ETA: 789s - loss: 4.677 - ETA: 786s - loss: 4.676 - ETA: 784s - loss: 4.676 - ETA: 781s - loss: 4.677 - ETA: 778s - loss: 4.677 - ETA: 775s - loss: 4.677 - ETA: 772s - loss: 4.677 - ETA: 770s - loss: 4.677 - ETA: 767s - loss: 4.677 - ETA: 764s - loss: 4.678 - ETA: 761s - loss: 4.679 - ETA: 759s - loss: 4.679 - ETA: 756s - loss: 4.680 - ETA: 753s - loss: 4.680 - ETA: 750s - loss: 4.680 - ETA: 747s - loss: 4.681 - ETA: 745s - loss: 4.680 - ETA: 742s - loss: 4.679 - ETA: 739s - loss: 4.680 - ETA: 736s - loss: 4.680 - ETA: 733s - loss: 4.680 - ETA: 730s - loss: 4.679 - ETA: 728s - loss: 4.679 - ETA: 725s - loss: 4.679 - ETA: 722s - loss: 4.679 - ETA: 719s - loss: 4.679 - ETA: 716s - loss: 4.679 - ETA: 714s - loss: 4.679 - ETA: 711s - loss: 4.679 - ETA: 708s - loss: 4.679 - ETA: 705s - loss: 4.679 - ETA: 703s - loss: 4.680 - ETA: 700s - loss: 4.680 - ETA: 697s - loss: 4.679 - ETA: 695s - loss: 4.680 - ETA: 692s - loss: 4.680 - ETA: 689s - loss: 4.679 - ETA: 686s - loss: 4.679 - ETA: 684s - loss: 4.679 - ETA: 681s - loss: 4.679 - ETA: 678s - loss: 4.678 - ETA: 675s - loss: 4.678 - ETA: 673s - loss: 4.678 - ETA: 670s - loss: 4.678 - ETA: 667s - loss: 4.677 - ETA: 664s - loss: 4.676 - ETA: 662s - loss: 4.6766\b\b\b\b\b\b\b\b\b\b\b\b\b\b\b\b\b\b\b\b\b\b\b\b\b\b\b\b\b\b\b\b\b\b\b\b\b\b\b\b\b\b\b\b\b\b\b\b\b\b\b\b\b\b\b\b\b\b\b\b\b\b\b\b\b\b\b\b\b\b\b"
     ]
    },
    {
     "name": "stdout",
     "output_type": "stream",
     "text": [
      "34822/34822 [==============================] - ETA: 659s - loss: 4.676 - ETA: 656s - loss: 4.676 - ETA: 653s - loss: 4.676 - ETA: 650s - loss: 4.676 - ETA: 648s - loss: 4.675 - ETA: 645s - loss: 4.676 - ETA: 642s - loss: 4.676 - ETA: 639s - loss: 4.676 - ETA: 636s - loss: 4.676 - ETA: 634s - loss: 4.676 - ETA: 631s - loss: 4.676 - ETA: 628s - loss: 4.676 - ETA: 625s - loss: 4.676 - ETA: 622s - loss: 4.676 - ETA: 619s - loss: 4.676 - ETA: 617s - loss: 4.675 - ETA: 614s - loss: 4.675 - ETA: 611s - loss: 4.675 - ETA: 608s - loss: 4.675 - ETA: 605s - loss: 4.675 - ETA: 602s - loss: 4.674 - ETA: 599s - loss: 4.674 - ETA: 597s - loss: 4.674 - ETA: 594s - loss: 4.674 - ETA: 591s - loss: 4.674 - ETA: 588s - loss: 4.674 - ETA: 585s - loss: 4.674 - ETA: 582s - loss: 4.674 - ETA: 579s - loss: 4.674 - ETA: 577s - loss: 4.673 - ETA: 574s - loss: 4.673 - ETA: 571s - loss: 4.673 - ETA: 568s - loss: 4.672 - ETA: 565s - loss: 4.672 - ETA: 562s - loss: 4.672 - ETA: 559s - loss: 4.672 - ETA: 557s - loss: 4.672 - ETA: 554s - loss: 4.671 - ETA: 551s - loss: 4.671 - ETA: 548s - loss: 4.670 - ETA: 545s - loss: 4.671 - ETA: 542s - loss: 4.671 - ETA: 540s - loss: 4.670 - ETA: 537s - loss: 4.670 - ETA: 534s - loss: 4.670 - ETA: 531s - loss: 4.670 - ETA: 528s - loss: 4.670 - ETA: 525s - loss: 4.669 - ETA: 522s - loss: 4.669 - ETA: 520s - loss: 4.669 - ETA: 517s - loss: 4.669 - ETA: 514s - loss: 4.668 - ETA: 511s - loss: 4.668 - ETA: 508s - loss: 4.669 - ETA: 505s - loss: 4.669 - ETA: 502s - loss: 4.669 - ETA: 500s - loss: 4.668 - ETA: 497s - loss: 4.669 - ETA: 494s - loss: 4.669 - ETA: 491s - loss: 4.669 - ETA: 488s - loss: 4.669 - ETA: 485s - loss: 4.669 - ETA: 482s - loss: 4.669 - ETA: 480s - loss: 4.668 - ETA: 477s - loss: 4.668 - ETA: 474s - loss: 4.668 - ETA: 471s - loss: 4.668 - ETA: 468s - loss: 4.668 - ETA: 465s - loss: 4.668 - ETA: 462s - loss: 4.668 - ETA: 460s - loss: 4.668 - ETA: 457s - loss: 4.668 - ETA: 454s - loss: 4.668 - ETA: 451s - loss: 4.668 - ETA: 448s - loss: 4.668 - ETA: 445s - loss: 4.668 - ETA: 442s - loss: 4.668 - ETA: 440s - loss: 4.667 - ETA: 437s - loss: 4.668 - ETA: 434s - loss: 4.668 - ETA: 431s - loss: 4.667 - ETA: 428s - loss: 4.667 - ETA: 425s - loss: 4.667 - ETA: 422s - loss: 4.667 - ETA: 420s - loss: 4.667 - ETA: 417s - loss: 4.667 - ETA: 414s - loss: 4.667 - ETA: 411s - loss: 4.667 - ETA: 408s - loss: 4.666 - ETA: 405s - loss: 4.666 - ETA: 402s - loss: 4.665 - ETA: 399s - loss: 4.665 - ETA: 397s - loss: 4.665 - ETA: 394s - loss: 4.666 - ETA: 391s - loss: 4.665 - ETA: 388s - loss: 4.665 - ETA: 385s - loss: 4.665 - ETA: 382s - loss: 4.665 - ETA: 379s - loss: 4.665 - ETA: 377s - loss: 4.664 - ETA: 374s - loss: 4.665 - ETA: 371s - loss: 4.665 - ETA: 368s - loss: 4.664 - ETA: 365s - loss: 4.664 - ETA: 362s - loss: 4.665 - ETA: 359s - loss: 4.664 - ETA: 356s - loss: 4.664 - ETA: 354s - loss: 4.665 - ETA: 351s - loss: 4.665 - ETA: 348s - loss: 4.665 - ETA: 345s - loss: 4.665 - ETA: 342s - loss: 4.665 - ETA: 339s - loss: 4.666 - ETA: 336s - loss: 4.665 - ETA: 334s - loss: 4.665 - ETA: 331s - loss: 4.665 - ETA: 328s - loss: 4.665 - ETA: 325s - loss: 4.665 - ETA: 322s - loss: 4.664 - ETA: 319s - loss: 4.664 - ETA: 316s - loss: 4.664 - ETA: 313s - loss: 4.663 - ETA: 311s - loss: 4.663 - ETA: 308s - loss: 4.663 - ETA: 305s - loss: 4.663 - ETA: 302s - loss: 4.663 - ETA: 299s - loss: 4.663 - ETA: 296s - loss: 4.663 - ETA: 293s - loss: 4.663 - ETA: 290s - loss: 4.662 - ETA: 288s - loss: 4.662 - ETA: 285s - loss: 4.662 - ETA: 282s - loss: 4.662 - ETA: 279s - loss: 4.662 - ETA: 276s - loss: 4.662 - ETA: 273s - loss: 4.661 - ETA: 270s - loss: 4.661 - ETA: 267s - loss: 4.661 - ETA: 265s - loss: 4.661 - ETA: 262s - loss: 4.661 - ETA: 259s - loss: 4.661 - ETA: 256s - loss: 4.661 - ETA: 253s - loss: 4.661 - ETA: 250s - loss: 4.661 - ETA: 247s - loss: 4.660 - ETA: 244s - loss: 4.660 - ETA: 242s - loss: 4.660 - ETA: 239s - loss: 4.660 - ETA: 236s - loss: 4.660 - ETA: 233s - loss: 4.660 - ETA: 230s - loss: 4.659 - ETA: 227s - loss: 4.659 - ETA: 224s - loss: 4.659 - ETA: 222s - loss: 4.658 - ETA: 219s - loss: 4.658 - ETA: 216s - loss: 4.658 - ETA: 213s - loss: 4.658 - ETA: 210s - loss: 4.657 - ETA: 207s - loss: 4.657 - ETA: 204s - loss: 4.657 - ETA: 201s - loss: 4.657 - ETA: 199s - loss: 4.657 - ETA: 196s - loss: 4.657 - ETA: 193s - loss: 4.657 - ETA: 190s - loss: 4.657 - ETA: 187s - loss: 4.657 - ETA: 184s - loss: 4.657 - ETA: 181s - loss: 4.657 - ETA: 178s - loss: 4.656 - ETA: 176s - loss: 4.657 - ETA: 173s - loss: 4.656 - ETA: 170s - loss: 4.656 - ETA: 167s - loss: 4.656 - ETA: 164s - loss: 4.656 - ETA: 161s - loss: 4.656 - ETA: 158s - loss: 4.656 - ETA: 155s - loss: 4.656 - ETA: 153s - loss: 4.656 - ETA: 150s - loss: 4.656 - ETA: 147s - loss: 4.655 - ETA: 144s - loss: 4.655 - ETA: 141s - loss: 4.655 - ETA: 138s - loss: 4.655 - ETA: 135s - loss: 4.655 - ETA: 132s - loss: 4.654 - ETA: 130s - loss: 4.654 - ETA: 127s - loss: 4.653 - ETA: 124s - loss: 4.653 - ETA: 121s - loss: 4.653 - ETA: 118s - loss: 4.653 - ETA: 115s - loss: 4.653 - ETA: 112s - loss: 4.652 - ETA: 109s - loss: 4.652 - ETA: 106s - loss: 4.651 - ETA: 104s - loss: 4.651 - ETA: 101s - loss: 4.651 - ETA: 98s - loss: 4.651 - ETA: 95s - loss: 4.65 - ETA: 92s - loss: 4.65 - ETA: 89s - loss: 4.65 - ETA: 86s - loss: 4.65 - ETA: 83s - loss: 4.64 - ETA: 81s - loss: 4.64 - ETA: 78s - loss: 4.64 - ETA: 75s - loss: 4.64 - ETA: 72s - loss: 4.64 - ETA: 69s - loss: 4.64 - ETA: 66s - loss: 4.64 - ETA: 63s - loss: 4.64 - ETA: 60s - loss: 4.64 - ETA: 57s - loss: 4.64 - ETA: 55s - loss: 4.64 - ETA: 52s - loss: 4.64 - ETA: 49s - loss: 4.64 - ETA: 46s - loss: 4.64 - ETA: 43s - loss: 4.64 - ETA: 40s - loss: 4.64 - ETA: 37s - loss: 4.64 - ETA: 34s - loss: 4.64 - ETA: 32s - loss: 4.64 - ETA: 29s - loss: 4.64 - ETA: 26s - loss: 4.64 - ETA: 23s - loss: 4.64 - ETA: 20s - loss: 4.64 - ETA: 17s - loss: 4.64 - ETA: 14s - loss: 4.64 - ETA: 11s - loss: 4.64 - ETA: 8s - loss: 4.6459 - ETA: 6s - loss: 4.645 - ETA: 3s - loss: 4.645 - ETA: 0s - loss: 4.645 - 1570s - loss: 4.6455  \n",
      "Epoch 2/10\n"
     ]
    },
    {
     "name": "stdout",
     "output_type": "stream",
     "text": [
      "20096/34822 [================>.............] - ETA: 1596s - loss: 4.60 - ETA: 1652s - loss: 4.59 - ETA: 1626s - loss: 4.52 - ETA: 1610s - loss: 4.56 - ETA: 1594s - loss: 4.53 - ETA: 1587s - loss: 4.50 - ETA: 1576s - loss: 4.49 - ETA: 1569s - loss: 4.48 - ETA: 1563s - loss: 4.48 - ETA: 1558s - loss: 4.50 - ETA: 1554s - loss: 4.48 - ETA: 1550s - loss: 4.48 - ETA: 1548s - loss: 4.48 - ETA: 1543s - loss: 4.48 - ETA: 1539s - loss: 4.48 - ETA: 1537s - loss: 4.48 - ETA: 1533s - loss: 4.49 - ETA: 1532s - loss: 4.48 - ETA: 1529s - loss: 4.49 - ETA: 1526s - loss: 4.49 - ETA: 1524s - loss: 4.50 - ETA: 1520s - loss: 4.50 - ETA: 1517s - loss: 4.50 - ETA: 1514s - loss: 4.49 - ETA: 1511s - loss: 4.49 - ETA: 1509s - loss: 4.49 - ETA: 1505s - loss: 4.49 - ETA: 1502s - loss: 4.49 - ETA: 1499s - loss: 4.48 - ETA: 1496s - loss: 4.48 - ETA: 1493s - loss: 4.48 - ETA: 1490s - loss: 4.48 - ETA: 1487s - loss: 4.48 - ETA: 1483s - loss: 4.48 - ETA: 1480s - loss: 4.49 - ETA: 1478s - loss: 4.49 - ETA: 1475s - loss: 4.49 - ETA: 1472s - loss: 4.49 - ETA: 1469s - loss: 4.49 - ETA: 1465s - loss: 4.49 - ETA: 1463s - loss: 4.49 - ETA: 1460s - loss: 4.49 - ETA: 1457s - loss: 4.50 - ETA: 1453s - loss: 4.50 - ETA: 1450s - loss: 4.50 - ETA: 1447s - loss: 4.50 - ETA: 1444s - loss: 4.50 - ETA: 1441s - loss: 4.50 - ETA: 1438s - loss: 4.50 - ETA: 1436s - loss: 4.50 - ETA: 1433s - loss: 4.50 - ETA: 1429s - loss: 4.50 - ETA: 1426s - loss: 4.50 - ETA: 1423s - loss: 4.50 - ETA: 1420s - loss: 4.50 - ETA: 1417s - loss: 4.50 - ETA: 1414s - loss: 4.50 - ETA: 1411s - loss: 4.50 - ETA: 1408s - loss: 4.51 - ETA: 1405s - loss: 4.51 - ETA: 1403s - loss: 4.51 - ETA: 1400s - loss: 4.51 - ETA: 1397s - loss: 4.51 - ETA: 1394s - loss: 4.51 - ETA: 1391s - loss: 4.51 - ETA: 1388s - loss: 4.51 - ETA: 1385s - loss: 4.51 - ETA: 1382s - loss: 4.51 - ETA: 1379s - loss: 4.51 - ETA: 1376s - loss: 4.51 - ETA: 1373s - loss: 4.51 - ETA: 1370s - loss: 4.51 - ETA: 1367s - loss: 4.51 - ETA: 1364s - loss: 4.51 - ETA: 1362s - loss: 4.51 - ETA: 1359s - loss: 4.51 - ETA: 1355s - loss: 4.51 - ETA: 1353s - loss: 4.51 - ETA: 1350s - loss: 4.51 - ETA: 1347s - loss: 4.52 - ETA: 1344s - loss: 4.52 - ETA: 1341s - loss: 4.52 - ETA: 1338s - loss: 4.52 - ETA: 1335s - loss: 4.52 - ETA: 1332s - loss: 4.52 - ETA: 1329s - loss: 4.52 - ETA: 1326s - loss: 4.52 - ETA: 1323s - loss: 4.52 - ETA: 1320s - loss: 4.52 - ETA: 1317s - loss: 4.51 - ETA: 1314s - loss: 4.51 - ETA: 1311s - loss: 4.52 - ETA: 1309s - loss: 4.52 - ETA: 1306s - loss: 4.52 - ETA: 1303s - loss: 4.52 - ETA: 1300s - loss: 4.52 - ETA: 1297s - loss: 4.52 - ETA: 1294s - loss: 4.52 - ETA: 1291s - loss: 4.52 - ETA: 1288s - loss: 4.52 - ETA: 1285s - loss: 4.52 - ETA: 1282s - loss: 4.52 - ETA: 1280s - loss: 4.52 - ETA: 1277s - loss: 4.52 - ETA: 1274s - loss: 4.52 - ETA: 1271s - loss: 4.52 - ETA: 1268s - loss: 4.52 - ETA: 1265s - loss: 4.52 - ETA: 1262s - loss: 4.52 - ETA: 1259s - loss: 4.52 - ETA: 1256s - loss: 4.52 - ETA: 1253s - loss: 4.52 - ETA: 1250s - loss: 4.52 - ETA: 1247s - loss: 4.52 - ETA: 1245s - loss: 4.52 - ETA: 1242s - loss: 4.52 - ETA: 1239s - loss: 4.52 - ETA: 1236s - loss: 4.52 - ETA: 1233s - loss: 4.52 - ETA: 1230s - loss: 4.52 - ETA: 1227s - loss: 4.52 - ETA: 1224s - loss: 4.52 - ETA: 1222s - loss: 4.52 - ETA: 1219s - loss: 4.52 - ETA: 1216s - loss: 4.52 - ETA: 1213s - loss: 4.52 - ETA: 1210s - loss: 4.52 - ETA: 1207s - loss: 4.52 - ETA: 1204s - loss: 4.52 - ETA: 1201s - loss: 4.52 - ETA: 1198s - loss: 4.52 - ETA: 1196s - loss: 4.52 - ETA: 1193s - loss: 4.52 - ETA: 1190s - loss: 4.52 - ETA: 1187s - loss: 4.52 - ETA: 1184s - loss: 4.53 - ETA: 1181s - loss: 4.53 - ETA: 1178s - loss: 4.53 - ETA: 1175s - loss: 4.52 - ETA: 1172s - loss: 4.52 - ETA: 1169s - loss: 4.52 - ETA: 1166s - loss: 4.52 - ETA: 1163s - loss: 4.52 - ETA: 1161s - loss: 4.53 - ETA: 1158s - loss: 4.53 - ETA: 1155s - loss: 4.53 - ETA: 1152s - loss: 4.53 - ETA: 1149s - loss: 4.53 - ETA: 1146s - loss: 4.53 - ETA: 1143s - loss: 4.53 - ETA: 1140s - loss: 4.53 - ETA: 1137s - loss: 4.53 - ETA: 1135s - loss: 4.53 - ETA: 1132s - loss: 4.53 - ETA: 1129s - loss: 4.52 - ETA: 1126s - loss: 4.53 - ETA: 1123s - loss: 4.53 - ETA: 1120s - loss: 4.53 - ETA: 1117s - loss: 4.52 - ETA: 1114s - loss: 4.52 - ETA: 1111s - loss: 4.52 - ETA: 1108s - loss: 4.52 - ETA: 1105s - loss: 4.52 - ETA: 1102s - loss: 4.52 - ETA: 1099s - loss: 4.52 - ETA: 1096s - loss: 4.52 - ETA: 1094s - loss: 4.52 - ETA: 1091s - loss: 4.52 - ETA: 1088s - loss: 4.53 - ETA: 1085s - loss: 4.53 - ETA: 1082s - loss: 4.52 - ETA: 1079s - loss: 4.53 - ETA: 1076s - loss: 4.53 - ETA: 1073s - loss: 4.53 - ETA: 1070s - loss: 4.53 - ETA: 1067s - loss: 4.53 - ETA: 1064s - loss: 4.53 - ETA: 1061s - loss: 4.53 - ETA: 1058s - loss: 4.53 - ETA: 1056s - loss: 4.53 - ETA: 1053s - loss: 4.53 - ETA: 1050s - loss: 4.53 - ETA: 1047s - loss: 4.53 - ETA: 1044s - loss: 4.53 - ETA: 1041s - loss: 4.53 - ETA: 1038s - loss: 4.53 - ETA: 1036s - loss: 4.53 - ETA: 1033s - loss: 4.53 - ETA: 1030s - loss: 4.53 - ETA: 1027s - loss: 4.54 - ETA: 1024s - loss: 4.54 - ETA: 1021s - loss: 4.54 - ETA: 1018s - loss: 4.54 - ETA: 1015s - loss: 4.54 - ETA: 1012s - loss: 4.54 - ETA: 1009s - loss: 4.54 - ETA: 1006s - loss: 4.54 - ETA: 1004s - loss: 4.54 - ETA: 1001s - loss: 4.54 - ETA: 998s - loss: 4.5444 - ETA: 995s - loss: 4.543 - ETA: 992s - loss: 4.544 - ETA: 989s - loss: 4.544 - ETA: 986s - loss: 4.545 - ETA: 983s - loss: 4.545 - ETA: 980s - loss: 4.546 - ETA: 977s - loss: 4.546 - ETA: 974s - loss: 4.547 - ETA: 971s - loss: 4.547 - ETA: 968s - loss: 4.548 - ETA: 965s - loss: 4.548 - ETA: 963s - loss: 4.548 - ETA: 960s - loss: 4.548 - ETA: 957s - loss: 4.549 - ETA: 954s - loss: 4.551 - ETA: 951s - loss: 4.551 - ETA: 948s - loss: 4.550 - ETA: 945s - loss: 4.551 - ETA: 942s - loss: 4.551 - ETA: 939s - loss: 4.552 - ETA: 936s - loss: 4.552 - ETA: 933s - loss: 4.554 - ETA: 930s - loss: 4.555 - ETA: 927s - loss: 4.555 - ETA: 924s - loss: 4.557 - ETA: 921s - loss: 4.557 - ETA: 919s - loss: 4.557 - ETA: 916s - loss: 4.557 - ETA: 913s - loss: 4.557 - ETA: 910s - loss: 4.558 - ETA: 907s - loss: 4.557 - ETA: 904s - loss: 4.557 - ETA: 901s - loss: 4.557 - ETA: 898s - loss: 4.557 - ETA: 895s - loss: 4.557 - ETA: 892s - loss: 4.558 - ETA: 889s - loss: 4.557 - ETA: 886s - loss: 4.557 - ETA: 883s - loss: 4.557 - ETA: 880s - loss: 4.556 - ETA: 877s - loss: 4.556 - ETA: 874s - loss: 4.556 - ETA: 871s - loss: 4.556 - ETA: 868s - loss: 4.556 - ETA: 865s - loss: 4.555 - ETA: 862s - loss: 4.555 - ETA: 859s - loss: 4.556 - ETA: 856s - loss: 4.556 - ETA: 853s - loss: 4.555 - ETA: 850s - loss: 4.555 - ETA: 847s - loss: 4.555 - ETA: 844s - loss: 4.556 - ETA: 842s - loss: 4.556 - ETA: 839s - loss: 4.556 - ETA: 836s - loss: 4.556 - ETA: 833s - loss: 4.556 - ETA: 830s - loss: 4.556 - ETA: 827s - loss: 4.555 - ETA: 824s - loss: 4.554 - ETA: 821s - loss: 4.553 - ETA: 818s - loss: 4.552 - ETA: 815s - loss: 4.551 - ETA: 812s - loss: 4.551 - ETA: 809s - loss: 4.552 - ETA: 806s - loss: 4.551 - ETA: 803s - loss: 4.551 - ETA: 800s - loss: 4.550 - ETA: 797s - loss: 4.550 - ETA: 795s - loss: 4.551 - ETA: 792s - loss: 4.551 - ETA: 789s - loss: 4.551 - ETA: 786s - loss: 4.551 - ETA: 783s - loss: 4.551 - ETA: 780s - loss: 4.550 - ETA: 777s - loss: 4.550 - ETA: 774s - loss: 4.550 - ETA: 771s - loss: 4.549 - ETA: 768s - loss: 4.548 - ETA: 766s - loss: 4.548 - ETA: 763s - loss: 4.548 - ETA: 760s - loss: 4.548 - ETA: 757s - loss: 4.548 - ETA: 754s - loss: 4.548 - ETA: 751s - loss: 4.548 - ETA: 748s - loss: 4.547 - ETA: 745s - loss: 4.547 - ETA: 742s - loss: 4.548 - ETA: 739s - loss: 4.548 - ETA: 736s - loss: 4.549 - ETA: 734s - loss: 4.549 - ETA: 731s - loss: 4.549 - ETA: 728s - loss: 4.549 - ETA: 725s - loss: 4.549 - ETA: 722s - loss: 4.549 - ETA: 719s - loss: 4.548 - ETA: 716s - loss: 4.547 - ETA: 713s - loss: 4.547 - ETA: 710s - loss: 4.547 - ETA: 708s - loss: 4.547 - ETA: 705s - loss: 4.547 - ETA: 702s - loss: 4.547 - ETA: 699s - loss: 4.546 - ETA: 696s - loss: 4.545 - ETA: 693s - loss: 4.544 - ETA: 690s - loss: 4.544 - ETA: 687s - loss: 4.544 - ETA: 684s - loss: 4.544 - ETA: 681s - loss: 4.544 - ETA: 679s - loss: 4.544 - ETA: 676s - loss: 4.544 - ETA: 673s - loss: 4.544 - ETA: 670s - loss: 4.543 - ETA: 667s - loss: 4.544 - ETA: 664s - loss: 4.5434"
     ]
    },
    {
     "name": "stdout",
     "output_type": "stream",
     "text": [
      "34822/34822 [==============================] - ETA: 661s - loss: 4.542 - ETA: 658s - loss: 4.543 - ETA: 655s - loss: 4.542 - ETA: 652s - loss: 4.542 - ETA: 649s - loss: 4.542 - ETA: 646s - loss: 4.542 - ETA: 644s - loss: 4.542 - ETA: 641s - loss: 4.544 - ETA: 638s - loss: 4.545 - ETA: 635s - loss: 4.545 - ETA: 632s - loss: 4.546 - ETA: 629s - loss: 4.546 - ETA: 626s - loss: 4.546 - ETA: 623s - loss: 4.546 - ETA: 620s - loss: 4.547 - ETA: 617s - loss: 4.546 - ETA: 614s - loss: 4.547 - ETA: 612s - loss: 4.546 - ETA: 609s - loss: 4.547 - ETA: 606s - loss: 4.547 - ETA: 603s - loss: 4.547 - ETA: 600s - loss: 4.547 - ETA: 597s - loss: 4.548 - ETA: 594s - loss: 4.548 - ETA: 591s - loss: 4.549 - ETA: 589s - loss: 4.549 - ETA: 586s - loss: 4.549 - ETA: 583s - loss: 4.549 - ETA: 580s - loss: 4.551 - ETA: 577s - loss: 4.552 - ETA: 574s - loss: 4.552 - ETA: 572s - loss: 4.551 - ETA: 569s - loss: 4.551 - ETA: 566s - loss: 4.552 - ETA: 563s - loss: 4.551 - ETA: 560s - loss: 4.551 - ETA: 557s - loss: 4.552 - ETA: 554s - loss: 4.551 - ETA: 552s - loss: 4.552 - ETA: 549s - loss: 4.551 - ETA: 546s - loss: 4.551 - ETA: 543s - loss: 4.551 - ETA: 540s - loss: 4.550 - ETA: 537s - loss: 4.551 - ETA: 534s - loss: 4.550 - ETA: 532s - loss: 4.550 - ETA: 529s - loss: 4.550 - ETA: 526s - loss: 4.549 - ETA: 523s - loss: 4.550 - ETA: 520s - loss: 4.550 - ETA: 517s - loss: 4.549 - ETA: 514s - loss: 4.549 - ETA: 511s - loss: 4.549 - ETA: 508s - loss: 4.549 - ETA: 505s - loss: 4.549 - ETA: 503s - loss: 4.548 - ETA: 500s - loss: 4.550 - ETA: 497s - loss: 4.550 - ETA: 494s - loss: 4.550 - ETA: 491s - loss: 4.549 - ETA: 488s - loss: 4.550 - ETA: 485s - loss: 4.550 - ETA: 482s - loss: 4.550 - ETA: 479s - loss: 4.551 - ETA: 476s - loss: 4.551 - ETA: 473s - loss: 4.551 - ETA: 471s - loss: 4.551 - ETA: 468s - loss: 4.551 - ETA: 465s - loss: 4.551 - ETA: 462s - loss: 4.551 - ETA: 459s - loss: 4.551 - ETA: 456s - loss: 4.552 - ETA: 453s - loss: 4.553 - ETA: 450s - loss: 4.553 - ETA: 447s - loss: 4.553 - ETA: 444s - loss: 4.554 - ETA: 441s - loss: 4.554 - ETA: 439s - loss: 4.555 - ETA: 436s - loss: 4.557 - ETA: 433s - loss: 4.557 - ETA: 430s - loss: 4.557 - ETA: 427s - loss: 4.557 - ETA: 424s - loss: 4.557 - ETA: 421s - loss: 4.557 - ETA: 418s - loss: 4.557 - ETA: 415s - loss: 4.557 - ETA: 412s - loss: 4.556 - ETA: 410s - loss: 4.556 - ETA: 407s - loss: 4.556 - ETA: 404s - loss: 4.557 - ETA: 401s - loss: 4.558 - ETA: 398s - loss: 4.558 - ETA: 395s - loss: 4.558 - ETA: 393s - loss: 4.558 - ETA: 390s - loss: 4.558 - ETA: 387s - loss: 4.558 - ETA: 384s - loss: 4.558 - ETA: 381s - loss: 4.558 - ETA: 378s - loss: 4.558 - ETA: 375s - loss: 4.558 - ETA: 372s - loss: 4.559 - ETA: 369s - loss: 4.558 - ETA: 366s - loss: 4.558 - ETA: 364s - loss: 4.558 - ETA: 361s - loss: 4.558 - ETA: 358s - loss: 4.558 - ETA: 355s - loss: 4.558 - ETA: 352s - loss: 4.558 - ETA: 349s - loss: 4.558 - ETA: 346s - loss: 4.558 - ETA: 343s - loss: 4.558 - ETA: 340s - loss: 4.558 - ETA: 338s - loss: 4.558 - ETA: 335s - loss: 4.558 - ETA: 332s - loss: 4.558 - ETA: 329s - loss: 4.558 - ETA: 326s - loss: 4.557 - ETA: 323s - loss: 4.557 - ETA: 320s - loss: 4.556 - ETA: 317s - loss: 4.556 - ETA: 314s - loss: 4.556 - ETA: 311s - loss: 4.555 - ETA: 309s - loss: 4.555 - ETA: 306s - loss: 4.555 - ETA: 303s - loss: 4.555 - ETA: 300s - loss: 4.555 - ETA: 297s - loss: 4.555 - ETA: 294s - loss: 4.555 - ETA: 291s - loss: 4.555 - ETA: 288s - loss: 4.555 - ETA: 285s - loss: 4.555 - ETA: 282s - loss: 4.555 - ETA: 280s - loss: 4.555 - ETA: 277s - loss: 4.555 - ETA: 274s - loss: 4.555 - ETA: 271s - loss: 4.555 - ETA: 268s - loss: 4.554 - ETA: 265s - loss: 4.554 - ETA: 262s - loss: 4.554 - ETA: 259s - loss: 4.553 - ETA: 256s - loss: 4.553 - ETA: 254s - loss: 4.552 - ETA: 251s - loss: 4.552 - ETA: 248s - loss: 4.552 - ETA: 245s - loss: 4.552 - ETA: 242s - loss: 4.552 - ETA: 239s - loss: 4.552 - ETA: 236s - loss: 4.552 - ETA: 233s - loss: 4.552 - ETA: 230s - loss: 4.552 - ETA: 228s - loss: 4.551 - ETA: 225s - loss: 4.552 - ETA: 222s - loss: 4.552 - ETA: 219s - loss: 4.552 - ETA: 216s - loss: 4.551 - ETA: 213s - loss: 4.551 - ETA: 210s - loss: 4.551 - ETA: 207s - loss: 4.551 - ETA: 204s - loss: 4.551 - ETA: 202s - loss: 4.550 - ETA: 199s - loss: 4.550 - ETA: 196s - loss: 4.550 - ETA: 193s - loss: 4.549 - ETA: 190s - loss: 4.550 - ETA: 187s - loss: 4.550 - ETA: 184s - loss: 4.550 - ETA: 181s - loss: 4.549 - ETA: 178s - loss: 4.549 - ETA: 176s - loss: 4.550 - ETA: 173s - loss: 4.550 - ETA: 170s - loss: 4.550 - ETA: 167s - loss: 4.549 - ETA: 164s - loss: 4.549 - ETA: 161s - loss: 4.549 - ETA: 158s - loss: 4.549 - ETA: 155s - loss: 4.550 - ETA: 152s - loss: 4.549 - ETA: 150s - loss: 4.550 - ETA: 147s - loss: 4.549 - ETA: 144s - loss: 4.549 - ETA: 141s - loss: 4.549 - ETA: 138s - loss: 4.550 - ETA: 135s - loss: 4.550 - ETA: 132s - loss: 4.550 - ETA: 129s - loss: 4.550 - ETA: 127s - loss: 4.550 - ETA: 124s - loss: 4.550 - ETA: 121s - loss: 4.550 - ETA: 118s - loss: 4.550 - ETA: 115s - loss: 4.549 - ETA: 112s - loss: 4.549 - ETA: 109s - loss: 4.549 - ETA: 106s - loss: 4.549 - ETA: 103s - loss: 4.549 - ETA: 101s - loss: 4.549 - ETA: 98s - loss: 4.548 - ETA: 95s - loss: 4.54 - ETA: 92s - loss: 4.54 - ETA: 89s - loss: 4.54 - ETA: 86s - loss: 4.54 - ETA: 83s - loss: 4.54 - ETA: 80s - loss: 4.54 - ETA: 78s - loss: 4.54 - ETA: 75s - loss: 4.54 - ETA: 72s - loss: 4.54 - ETA: 69s - loss: 4.54 - ETA: 66s - loss: 4.54 - ETA: 63s - loss: 4.54 - ETA: 60s - loss: 4.54 - ETA: 57s - loss: 4.54 - ETA: 54s - loss: 4.54 - ETA: 52s - loss: 4.54 - ETA: 49s - loss: 4.54 - ETA: 46s - loss: 4.54 - ETA: 43s - loss: 4.54 - ETA: 40s - loss: 4.54 - ETA: 37s - loss: 4.54 - ETA: 34s - loss: 4.54 - ETA: 31s - loss: 4.54 - ETA: 29s - loss: 4.54 - ETA: 26s - loss: 4.54 - ETA: 23s - loss: 4.54 - ETA: 20s - loss: 4.54 - ETA: 17s - loss: 4.54 - ETA: 14s - loss: 4.54 - ETA: 11s - loss: 4.54 - ETA: 8s - loss: 4.5465 - ETA: 6s - loss: 4.546 - ETA: 3s - loss: 4.546 - ETA: 0s - loss: 4.546 - 1567s - loss: 4.5468  \n",
      "Epoch 3/10\n"
     ]
    },
    {
     "name": "stdout",
     "output_type": "stream",
     "text": [
      "20096/34822 [================>.............] - ETA: 1700s - loss: 4.63 - ETA: 1620s - loss: 4.59 - ETA: 1598s - loss: 4.53 - ETA: 1577s - loss: 4.48 - ETA: 1570s - loss: 4.44 - ETA: 1565s - loss: 4.45 - ETA: 1558s - loss: 4.45 - ETA: 1553s - loss: 4.46 - ETA: 1547s - loss: 4.47 - ETA: 1544s - loss: 4.49 - ETA: 1540s - loss: 4.50 - ETA: 1538s - loss: 4.48 - ETA: 1539s - loss: 4.48 - ETA: 1537s - loss: 4.48 - ETA: 1536s - loss: 4.47 - ETA: 1536s - loss: 4.50 - ETA: 1533s - loss: 4.50 - ETA: 1532s - loss: 4.51 - ETA: 1531s - loss: 4.50 - ETA: 1529s - loss: 4.49 - ETA: 1525s - loss: 4.50 - ETA: 1520s - loss: 4.50 - ETA: 1516s - loss: 4.50 - ETA: 1512s - loss: 4.50 - ETA: 1508s - loss: 4.50 - ETA: 1505s - loss: 4.50 - ETA: 1501s - loss: 4.50 - ETA: 1498s - loss: 4.50 - ETA: 1493s - loss: 4.50 - ETA: 1489s - loss: 4.50 - ETA: 1485s - loss: 4.50 - ETA: 1481s - loss: 4.50 - ETA: 1479s - loss: 4.50 - ETA: 1475s - loss: 4.49 - ETA: 1472s - loss: 4.50 - ETA: 1468s - loss: 4.53 - ETA: 1464s - loss: 4.54 - ETA: 1462s - loss: 4.54 - ETA: 1458s - loss: 4.55 - ETA: 1456s - loss: 4.55 - ETA: 1452s - loss: 4.55 - ETA: 1449s - loss: 4.56 - ETA: 1446s - loss: 4.55 - ETA: 1443s - loss: 4.55 - ETA: 1440s - loss: 4.56 - ETA: 1437s - loss: 4.56 - ETA: 1433s - loss: 4.56 - ETA: 1431s - loss: 4.56 - ETA: 1428s - loss: 4.56 - ETA: 1424s - loss: 4.57 - ETA: 1421s - loss: 4.56 - ETA: 1418s - loss: 4.56 - ETA: 1415s - loss: 4.56 - ETA: 1412s - loss: 4.56 - ETA: 1409s - loss: 4.56 - ETA: 1406s - loss: 4.56 - ETA: 1403s - loss: 4.56 - ETA: 1400s - loss: 4.56 - ETA: 1397s - loss: 4.56 - ETA: 1394s - loss: 4.56 - ETA: 1391s - loss: 4.56 - ETA: 1388s - loss: 4.57 - ETA: 1385s - loss: 4.56 - ETA: 1382s - loss: 4.56 - ETA: 1379s - loss: 4.56 - ETA: 1376s - loss: 4.56 - ETA: 1373s - loss: 4.56 - ETA: 1370s - loss: 4.56 - ETA: 1367s - loss: 4.56 - ETA: 1364s - loss: 4.56 - ETA: 1361s - loss: 4.56 - ETA: 1358s - loss: 4.56 - ETA: 1356s - loss: 4.55 - ETA: 1353s - loss: 4.55 - ETA: 1350s - loss: 4.55 - ETA: 1347s - loss: 4.55 - ETA: 1344s - loss: 4.55 - ETA: 1341s - loss: 4.56 - ETA: 1338s - loss: 4.56 - ETA: 1335s - loss: 4.56 - ETA: 1331s - loss: 4.55 - ETA: 1329s - loss: 4.55 - ETA: 1326s - loss: 4.55 - ETA: 1323s - loss: 4.55 - ETA: 1320s - loss: 4.55 - ETA: 1317s - loss: 4.55 - ETA: 1314s - loss: 4.55 - ETA: 1311s - loss: 4.55 - ETA: 1308s - loss: 4.55 - ETA: 1306s - loss: 4.54 - ETA: 1303s - loss: 4.54 - ETA: 1300s - loss: 4.54 - ETA: 1297s - loss: 4.54 - ETA: 1294s - loss: 4.54 - ETA: 1291s - loss: 4.54 - ETA: 1288s - loss: 4.54 - ETA: 1286s - loss: 4.54 - ETA: 1284s - loss: 4.54 - ETA: 1282s - loss: 4.53 - ETA: 1279s - loss: 4.54 - ETA: 1276s - loss: 4.54 - ETA: 1273s - loss: 4.54 - ETA: 1270s - loss: 4.54 - ETA: 1267s - loss: 4.54 - ETA: 1264s - loss: 4.54 - ETA: 1261s - loss: 4.54 - ETA: 1258s - loss: 4.53 - ETA: 1255s - loss: 4.53 - ETA: 1252s - loss: 4.53 - ETA: 1250s - loss: 4.53 - ETA: 1247s - loss: 4.53 - ETA: 1244s - loss: 4.53 - ETA: 1241s - loss: 4.53 - ETA: 1238s - loss: 4.53 - ETA: 1235s - loss: 4.53 - ETA: 1232s - loss: 4.53 - ETA: 1229s - loss: 4.53 - ETA: 1226s - loss: 4.53 - ETA: 1223s - loss: 4.53 - ETA: 1220s - loss: 4.53 - ETA: 1217s - loss: 4.53 - ETA: 1214s - loss: 4.54 - ETA: 1211s - loss: 4.54 - ETA: 1209s - loss: 4.54 - ETA: 1206s - loss: 4.53 - ETA: 1203s - loss: 4.53 - ETA: 1200s - loss: 4.53 - ETA: 1197s - loss: 4.53 - ETA: 1194s - loss: 4.53 - ETA: 1191s - loss: 4.53 - ETA: 1189s - loss: 4.53 - ETA: 1186s - loss: 4.53 - ETA: 1183s - loss: 4.53 - ETA: 1180s - loss: 4.53 - ETA: 1177s - loss: 4.53 - ETA: 1174s - loss: 4.53 - ETA: 1171s - loss: 4.53 - ETA: 1168s - loss: 4.53 - ETA: 1165s - loss: 4.53 - ETA: 1162s - loss: 4.53 - ETA: 1159s - loss: 4.53 - ETA: 1156s - loss: 4.53 - ETA: 1153s - loss: 4.53 - ETA: 1151s - loss: 4.53 - ETA: 1148s - loss: 4.53 - ETA: 1145s - loss: 4.53 - ETA: 1142s - loss: 4.53 - ETA: 1139s - loss: 4.53 - ETA: 1136s - loss: 4.53 - ETA: 1133s - loss: 4.53 - ETA: 1130s - loss: 4.53 - ETA: 1127s - loss: 4.52 - ETA: 1124s - loss: 4.52 - ETA: 1121s - loss: 4.52 - ETA: 1118s - loss: 4.52 - ETA: 1115s - loss: 4.52 - ETA: 1113s - loss: 4.52 - ETA: 1110s - loss: 4.52 - ETA: 1107s - loss: 4.52 - ETA: 1104s - loss: 4.52 - ETA: 1101s - loss: 4.52 - ETA: 1098s - loss: 4.52 - ETA: 1095s - loss: 4.52 - ETA: 1092s - loss: 4.52 - ETA: 1089s - loss: 4.52 - ETA: 1086s - loss: 4.52 - ETA: 1084s - loss: 4.52 - ETA: 1081s - loss: 4.52 - ETA: 1078s - loss: 4.52 - ETA: 1075s - loss: 4.52 - ETA: 1072s - loss: 4.52 - ETA: 1069s - loss: 4.52 - ETA: 1066s - loss: 4.52 - ETA: 1063s - loss: 4.52 - ETA: 1061s - loss: 4.52 - ETA: 1058s - loss: 4.52 - ETA: 1055s - loss: 4.52 - ETA: 1052s - loss: 4.52 - ETA: 1049s - loss: 4.52 - ETA: 1046s - loss: 4.52 - ETA: 1043s - loss: 4.52 - ETA: 1040s - loss: 4.52 - ETA: 1037s - loss: 4.51 - ETA: 1034s - loss: 4.52 - ETA: 1031s - loss: 4.52 - ETA: 1029s - loss: 4.52 - ETA: 1026s - loss: 4.51 - ETA: 1023s - loss: 4.51 - ETA: 1020s - loss: 4.51 - ETA: 1017s - loss: 4.51 - ETA: 1014s - loss: 4.51 - ETA: 1011s - loss: 4.51 - ETA: 1008s - loss: 4.51 - ETA: 1005s - loss: 4.51 - ETA: 1002s - loss: 4.51 - ETA: 999s - loss: 4.5172 - ETA: 997s - loss: 4.517 - ETA: 994s - loss: 4.517 - ETA: 991s - loss: 4.516 - ETA: 988s - loss: 4.516 - ETA: 985s - loss: 4.516 - ETA: 982s - loss: 4.515 - ETA: 979s - loss: 4.514 - ETA: 976s - loss: 4.513 - ETA: 974s - loss: 4.513 - ETA: 971s - loss: 4.513 - ETA: 968s - loss: 4.514 - ETA: 965s - loss: 4.513 - ETA: 962s - loss: 4.512 - ETA: 959s - loss: 4.513 - ETA: 956s - loss: 4.513 - ETA: 953s - loss: 4.513 - ETA: 950s - loss: 4.513 - ETA: 948s - loss: 4.513 - ETA: 945s - loss: 4.513 - ETA: 942s - loss: 4.511 - ETA: 939s - loss: 4.512 - ETA: 936s - loss: 4.512 - ETA: 933s - loss: 4.512 - ETA: 930s - loss: 4.512 - ETA: 927s - loss: 4.513 - ETA: 924s - loss: 4.513 - ETA: 922s - loss: 4.512 - ETA: 919s - loss: 4.512 - ETA: 916s - loss: 4.512 - ETA: 913s - loss: 4.511 - ETA: 910s - loss: 4.510 - ETA: 907s - loss: 4.510 - ETA: 904s - loss: 4.509 - ETA: 901s - loss: 4.507 - ETA: 899s - loss: 4.507 - ETA: 896s - loss: 4.508 - ETA: 893s - loss: 4.507 - ETA: 890s - loss: 4.507 - ETA: 887s - loss: 4.508 - ETA: 884s - loss: 4.507 - ETA: 881s - loss: 4.507 - ETA: 878s - loss: 4.506 - ETA: 875s - loss: 4.505 - ETA: 873s - loss: 4.505 - ETA: 870s - loss: 4.505 - ETA: 867s - loss: 4.505 - ETA: 864s - loss: 4.506 - ETA: 861s - loss: 4.506 - ETA: 858s - loss: 4.506 - ETA: 855s - loss: 4.505 - ETA: 852s - loss: 4.505 - ETA: 849s - loss: 4.504 - ETA: 847s - loss: 4.504 - ETA: 844s - loss: 4.504 - ETA: 841s - loss: 4.504 - ETA: 838s - loss: 4.504 - ETA: 835s - loss: 4.503 - ETA: 832s - loss: 4.503 - ETA: 829s - loss: 4.502 - ETA: 826s - loss: 4.502 - ETA: 823s - loss: 4.502 - ETA: 821s - loss: 4.502 - ETA: 818s - loss: 4.502 - ETA: 815s - loss: 4.502 - ETA: 812s - loss: 4.501 - ETA: 809s - loss: 4.501 - ETA: 806s - loss: 4.501 - ETA: 803s - loss: 4.502 - ETA: 800s - loss: 4.501 - ETA: 797s - loss: 4.501 - ETA: 794s - loss: 4.502 - ETA: 792s - loss: 4.502 - ETA: 789s - loss: 4.501 - ETA: 786s - loss: 4.500 - ETA: 783s - loss: 4.500 - ETA: 780s - loss: 4.500 - ETA: 777s - loss: 4.499 - ETA: 774s - loss: 4.500 - ETA: 771s - loss: 4.500 - ETA: 769s - loss: 4.500 - ETA: 766s - loss: 4.500 - ETA: 763s - loss: 4.499 - ETA: 760s - loss: 4.498 - ETA: 757s - loss: 4.499 - ETA: 754s - loss: 4.499 - ETA: 751s - loss: 4.499 - ETA: 748s - loss: 4.498 - ETA: 746s - loss: 4.497 - ETA: 743s - loss: 4.497 - ETA: 740s - loss: 4.498 - ETA: 737s - loss: 4.498 - ETA: 734s - loss: 4.498 - ETA: 731s - loss: 4.496 - ETA: 729s - loss: 4.496 - ETA: 726s - loss: 4.497 - ETA: 723s - loss: 4.497 - ETA: 720s - loss: 4.496 - ETA: 717s - loss: 4.495 - ETA: 714s - loss: 4.495 - ETA: 711s - loss: 4.496 - ETA: 709s - loss: 4.496 - ETA: 706s - loss: 4.496 - ETA: 703s - loss: 4.495 - ETA: 700s - loss: 4.496 - ETA: 697s - loss: 4.496 - ETA: 694s - loss: 4.497 - ETA: 691s - loss: 4.497 - ETA: 688s - loss: 4.497 - ETA: 685s - loss: 4.497 - ETA: 682s - loss: 4.497 - ETA: 680s - loss: 4.497 - ETA: 677s - loss: 4.496 - ETA: 674s - loss: 4.496 - ETA: 671s - loss: 4.496 - ETA: 668s - loss: 4.495 - ETA: 665s - loss: 4.495 - ETA: 662s - loss: 4.494 - ETA: 660s - loss: 4.4940"
     ]
    },
    {
     "name": "stdout",
     "output_type": "stream",
     "text": [
      "34822/34822 [==============================] - ETA: 657s - loss: 4.494 - ETA: 654s - loss: 4.494 - ETA: 651s - loss: 4.493 - ETA: 648s - loss: 4.493 - ETA: 645s - loss: 4.493 - ETA: 642s - loss: 4.493 - ETA: 639s - loss: 4.492 - ETA: 636s - loss: 4.492 - ETA: 634s - loss: 4.491 - ETA: 631s - loss: 4.491 - ETA: 628s - loss: 4.491 - ETA: 625s - loss: 4.491 - ETA: 622s - loss: 4.490 - ETA: 619s - loss: 4.491 - ETA: 616s - loss: 4.490 - ETA: 613s - loss: 4.489 - ETA: 610s - loss: 4.489 - ETA: 608s - loss: 4.490 - ETA: 605s - loss: 4.489 - ETA: 602s - loss: 4.490 - ETA: 599s - loss: 4.489 - ETA: 596s - loss: 4.489 - ETA: 593s - loss: 4.489 - ETA: 590s - loss: 4.489 - ETA: 588s - loss: 4.489 - ETA: 585s - loss: 4.489 - ETA: 582s - loss: 4.489 - ETA: 579s - loss: 4.489 - ETA: 576s - loss: 4.489 - ETA: 573s - loss: 4.489 - ETA: 570s - loss: 4.489 - ETA: 567s - loss: 4.489 - ETA: 565s - loss: 4.489 - ETA: 562s - loss: 4.489 - ETA: 559s - loss: 4.489 - ETA: 556s - loss: 4.488 - ETA: 553s - loss: 4.489 - ETA: 550s - loss: 4.489 - ETA: 547s - loss: 4.488 - ETA: 544s - loss: 4.488 - ETA: 542s - loss: 4.488 - ETA: 539s - loss: 4.488 - ETA: 536s - loss: 4.488 - ETA: 533s - loss: 4.489 - ETA: 530s - loss: 4.488 - ETA: 527s - loss: 4.488 - ETA: 524s - loss: 4.487 - ETA: 521s - loss: 4.487 - ETA: 519s - loss: 4.486 - ETA: 516s - loss: 4.486 - ETA: 513s - loss: 4.487 - ETA: 510s - loss: 4.487 - ETA: 507s - loss: 4.488 - ETA: 504s - loss: 4.488 - ETA: 501s - loss: 4.488 - ETA: 499s - loss: 4.488 - ETA: 496s - loss: 4.488 - ETA: 493s - loss: 4.488 - ETA: 490s - loss: 4.488 - ETA: 487s - loss: 4.488 - ETA: 484s - loss: 4.488 - ETA: 481s - loss: 4.489 - ETA: 478s - loss: 4.489 - ETA: 476s - loss: 4.489 - ETA: 473s - loss: 4.489 - ETA: 470s - loss: 4.489 - ETA: 467s - loss: 4.489 - ETA: 464s - loss: 4.488 - ETA: 461s - loss: 4.488 - ETA: 458s - loss: 4.488 - ETA: 455s - loss: 4.488 - ETA: 453s - loss: 4.487 - ETA: 450s - loss: 4.486 - ETA: 447s - loss: 4.487 - ETA: 444s - loss: 4.486 - ETA: 441s - loss: 4.486 - ETA: 438s - loss: 4.486 - ETA: 435s - loss: 4.487 - ETA: 432s - loss: 4.487 - ETA: 430s - loss: 4.486 - ETA: 427s - loss: 4.487 - ETA: 424s - loss: 4.486 - ETA: 421s - loss: 4.486 - ETA: 418s - loss: 4.486 - ETA: 415s - loss: 4.486 - ETA: 412s - loss: 4.486 - ETA: 410s - loss: 4.487 - ETA: 407s - loss: 4.487 - ETA: 404s - loss: 4.487 - ETA: 401s - loss: 4.487 - ETA: 398s - loss: 4.487 - ETA: 395s - loss: 4.487 - ETA: 392s - loss: 4.487 - ETA: 389s - loss: 4.487 - ETA: 387s - loss: 4.487 - ETA: 384s - loss: 4.487 - ETA: 381s - loss: 4.487 - ETA: 378s - loss: 4.487 - ETA: 375s - loss: 4.487 - ETA: 372s - loss: 4.487 - ETA: 369s - loss: 4.488 - ETA: 366s - loss: 4.488 - ETA: 364s - loss: 4.488 - ETA: 361s - loss: 4.488 - ETA: 358s - loss: 4.488 - ETA: 355s - loss: 4.488 - ETA: 352s - loss: 4.487 - ETA: 349s - loss: 4.488 - ETA: 346s - loss: 4.488 - ETA: 344s - loss: 4.488 - ETA: 341s - loss: 4.487 - ETA: 338s - loss: 4.487 - ETA: 335s - loss: 4.487 - ETA: 332s - loss: 4.487 - ETA: 329s - loss: 4.487 - ETA: 326s - loss: 4.486 - ETA: 323s - loss: 4.486 - ETA: 321s - loss: 4.486 - ETA: 318s - loss: 4.485 - ETA: 315s - loss: 4.486 - ETA: 312s - loss: 4.486 - ETA: 309s - loss: 4.486 - ETA: 306s - loss: 4.486 - ETA: 303s - loss: 4.486 - ETA: 301s - loss: 4.486 - ETA: 298s - loss: 4.486 - ETA: 295s - loss: 4.486 - ETA: 292s - loss: 4.486 - ETA: 289s - loss: 4.486 - ETA: 286s - loss: 4.486 - ETA: 283s - loss: 4.486 - ETA: 280s - loss: 4.486 - ETA: 278s - loss: 4.486 - ETA: 275s - loss: 4.486 - ETA: 272s - loss: 4.486 - ETA: 269s - loss: 4.486 - ETA: 266s - loss: 4.486 - ETA: 263s - loss: 4.486 - ETA: 260s - loss: 4.486 - ETA: 258s - loss: 4.487 - ETA: 255s - loss: 4.486 - ETA: 252s - loss: 4.486 - ETA: 249s - loss: 4.486 - ETA: 246s - loss: 4.486 - ETA: 243s - loss: 4.486 - ETA: 240s - loss: 4.486 - ETA: 238s - loss: 4.486 - ETA: 235s - loss: 4.486 - ETA: 232s - loss: 4.486 - ETA: 229s - loss: 4.486 - ETA: 226s - loss: 4.486 - ETA: 223s - loss: 4.486 - ETA: 220s - loss: 4.486 - ETA: 218s - loss: 4.486 - ETA: 215s - loss: 4.486 - ETA: 212s - loss: 4.486 - ETA: 209s - loss: 4.486 - ETA: 206s - loss: 4.486 - ETA: 203s - loss: 4.485 - ETA: 200s - loss: 4.486 - ETA: 197s - loss: 4.486 - ETA: 195s - loss: 4.486 - ETA: 192s - loss: 4.486 - ETA: 189s - loss: 4.486 - ETA: 186s - loss: 4.486 - ETA: 183s - loss: 4.486 - ETA: 180s - loss: 4.486 - ETA: 177s - loss: 4.485 - ETA: 175s - loss: 4.485 - ETA: 172s - loss: 4.485 - ETA: 169s - loss: 4.485 - ETA: 166s - loss: 4.485 - ETA: 163s - loss: 4.485 - ETA: 160s - loss: 4.484 - ETA: 157s - loss: 4.484 - ETA: 154s - loss: 4.484 - ETA: 152s - loss: 4.484 - ETA: 149s - loss: 4.484 - ETA: 146s - loss: 4.484 - ETA: 143s - loss: 4.484 - ETA: 140s - loss: 4.484 - ETA: 137s - loss: 4.484 - ETA: 134s - loss: 4.484 - ETA: 132s - loss: 4.484 - ETA: 129s - loss: 4.484 - ETA: 126s - loss: 4.484 - ETA: 123s - loss: 4.484 - ETA: 120s - loss: 4.484 - ETA: 117s - loss: 4.484 - ETA: 114s - loss: 4.484 - ETA: 112s - loss: 4.484 - ETA: 109s - loss: 4.484 - ETA: 106s - loss: 4.484 - ETA: 103s - loss: 4.484 - ETA: 100s - loss: 4.484 - ETA: 97s - loss: 4.484 - ETA: 94s - loss: 4.48 - ETA: 91s - loss: 4.48 - ETA: 89s - loss: 4.48 - ETA: 86s - loss: 4.48 - ETA: 83s - loss: 4.48 - ETA: 80s - loss: 4.48 - ETA: 77s - loss: 4.48 - ETA: 74s - loss: 4.48 - ETA: 71s - loss: 4.48 - ETA: 69s - loss: 4.48 - ETA: 66s - loss: 4.48 - ETA: 63s - loss: 4.48 - ETA: 60s - loss: 4.48 - ETA: 57s - loss: 4.48 - ETA: 54s - loss: 4.48 - ETA: 51s - loss: 4.48 - ETA: 48s - loss: 4.48 - ETA: 46s - loss: 4.48 - ETA: 43s - loss: 4.48 - ETA: 40s - loss: 4.48 - ETA: 37s - loss: 4.48 - ETA: 34s - loss: 4.48 - ETA: 31s - loss: 4.48 - ETA: 28s - loss: 4.48 - ETA: 26s - loss: 4.48 - ETA: 23s - loss: 4.48 - ETA: 20s - loss: 4.48 - ETA: 17s - loss: 4.48 - ETA: 14s - loss: 4.48 - ETA: 11s - loss: 4.48 - ETA: 8s - loss: 4.4851 - ETA: 5s - loss: 4.485 - ETA: 3s - loss: 4.485 - ETA: 0s - loss: 4.484 - 1559s - loss: 4.4849  \n",
      "Epoch 4/10\n"
     ]
    },
    {
     "name": "stdout",
     "output_type": "stream",
     "text": [
      "14464/34822 [===========>..................] - ETA: 1558s - loss: 4.43 - ETA: 1554s - loss: 4.35 - ETA: 1545s - loss: 4.39 - ETA: 1543s - loss: 4.37 - ETA: 1542s - loss: 4.39 - ETA: 1539s - loss: 4.37 - ETA: 1538s - loss: 4.38 - ETA: 1535s - loss: 4.40 - ETA: 1533s - loss: 4.42 - ETA: 1532s - loss: 4.41 - ETA: 1529s - loss: 4.40 - ETA: 1526s - loss: 4.40 - ETA: 1522s - loss: 4.40 - ETA: 1519s - loss: 4.40 - ETA: 1516s - loss: 4.40 - ETA: 1513s - loss: 4.42 - ETA: 1510s - loss: 4.43 - ETA: 1508s - loss: 4.43 - ETA: 1507s - loss: 4.43 - ETA: 1503s - loss: 4.42 - ETA: 1499s - loss: 4.42 - ETA: 1498s - loss: 4.44 - ETA: 1494s - loss: 4.43 - ETA: 1491s - loss: 4.44 - ETA: 1488s - loss: 4.44 - ETA: 1484s - loss: 4.43 - ETA: 1483s - loss: 4.42 - ETA: 1479s - loss: 4.43 - ETA: 1477s - loss: 4.43 - ETA: 1474s - loss: 4.43 - ETA: 1471s - loss: 4.43 - ETA: 1468s - loss: 4.43 - ETA: 1465s - loss: 4.43 - ETA: 1462s - loss: 4.43 - ETA: 1459s - loss: 4.42 - ETA: 1456s - loss: 4.43 - ETA: 1453s - loss: 4.43 - ETA: 1449s - loss: 4.43 - ETA: 1447s - loss: 4.42 - ETA: 1444s - loss: 4.43 - ETA: 1441s - loss: 4.43 - ETA: 1438s - loss: 4.42 - ETA: 1435s - loss: 4.42 - ETA: 1433s - loss: 4.42 - ETA: 1429s - loss: 4.41 - ETA: 1426s - loss: 4.42 - ETA: 1424s - loss: 4.42 - ETA: 1421s - loss: 4.42 - ETA: 1418s - loss: 4.42 - ETA: 1415s - loss: 4.42 - ETA: 1412s - loss: 4.43 - ETA: 1409s - loss: 4.43 - ETA: 1406s - loss: 4.43 - ETA: 1404s - loss: 4.43 - ETA: 1401s - loss: 4.43 - ETA: 1398s - loss: 4.43 - ETA: 1395s - loss: 4.43 - ETA: 1392s - loss: 4.43 - ETA: 1389s - loss: 4.43 - ETA: 1387s - loss: 4.43 - ETA: 1384s - loss: 4.43 - ETA: 1381s - loss: 4.43 - ETA: 1378s - loss: 4.43 - ETA: 1376s - loss: 4.43 - ETA: 1373s - loss: 4.43 - ETA: 1370s - loss: 4.42 - ETA: 1367s - loss: 4.42 - ETA: 1363s - loss: 4.42 - ETA: 1360s - loss: 4.42 - ETA: 1357s - loss: 4.42 - ETA: 1355s - loss: 4.42 - ETA: 1352s - loss: 4.42 - ETA: 1349s - loss: 4.42 - ETA: 1346s - loss: 4.42 - ETA: 1343s - loss: 4.42 - ETA: 1341s - loss: 4.42 - ETA: 1338s - loss: 4.42 - ETA: 1335s - loss: 4.42 - ETA: 1332s - loss: 4.42 - ETA: 1329s - loss: 4.42 - ETA: 1326s - loss: 4.42 - ETA: 1323s - loss: 4.42 - ETA: 1320s - loss: 4.42 - ETA: 1318s - loss: 4.42 - ETA: 1315s - loss: 4.42 - ETA: 1312s - loss: 4.42 - ETA: 1309s - loss: 4.42 - ETA: 1306s - loss: 4.42 - ETA: 1303s - loss: 4.42 - ETA: 1300s - loss: 4.42 - ETA: 1297s - loss: 4.42 - ETA: 1294s - loss: 4.42 - ETA: 1291s - loss: 4.42 - ETA: 1288s - loss: 4.42 - ETA: 1285s - loss: 4.42 - ETA: 1282s - loss: 4.42 - ETA: 1279s - loss: 4.42 - ETA: 1276s - loss: 4.42 - ETA: 1274s - loss: 4.42 - ETA: 1271s - loss: 4.42 - ETA: 1268s - loss: 4.42 - ETA: 1265s - loss: 4.42 - ETA: 1262s - loss: 4.42 - ETA: 1260s - loss: 4.42 - ETA: 1257s - loss: 4.42 - ETA: 1254s - loss: 4.42 - ETA: 1252s - loss: 4.42 - ETA: 1249s - loss: 4.42 - ETA: 1247s - loss: 4.42 - ETA: 1244s - loss: 4.42 - ETA: 1242s - loss: 4.42 - ETA: 1239s - loss: 4.42 - ETA: 1236s - loss: 4.42 - ETA: 1234s - loss: 4.42 - ETA: 1231s - loss: 4.43 - ETA: 1228s - loss: 4.43 - ETA: 1225s - loss: 4.43 - ETA: 1222s - loss: 4.43 - ETA: 1220s - loss: 4.43 - ETA: 1217s - loss: 4.43 - ETA: 1214s - loss: 4.43 - ETA: 1211s - loss: 4.43 - ETA: 1208s - loss: 4.43 - ETA: 1205s - loss: 4.43 - ETA: 1202s - loss: 4.43 - ETA: 1199s - loss: 4.43 - ETA: 1196s - loss: 4.43 - ETA: 1193s - loss: 4.43 - ETA: 1190s - loss: 4.43 - ETA: 1187s - loss: 4.43 - ETA: 1185s - loss: 4.43 - ETA: 1182s - loss: 4.43 - ETA: 1179s - loss: 4.43 - ETA: 1176s - loss: 4.43 - ETA: 1173s - loss: 4.43 - ETA: 1170s - loss: 4.43 - ETA: 1167s - loss: 4.43 - ETA: 1164s - loss: 4.43 - ETA: 1162s - loss: 4.43 - ETA: 1159s - loss: 4.43 - ETA: 1156s - loss: 4.43 - ETA: 1153s - loss: 4.43 - ETA: 1150s - loss: 4.43 - ETA: 1147s - loss: 4.43 - ETA: 1144s - loss: 4.43 - ETA: 1142s - loss: 4.43 - ETA: 1139s - loss: 4.43 - ETA: 1136s - loss: 4.43 - ETA: 1133s - loss: 4.43 - ETA: 1130s - loss: 4.43 - ETA: 1128s - loss: 4.43 - ETA: 1125s - loss: 4.43 - ETA: 1122s - loss: 4.43 - ETA: 1119s - loss: 4.43 - ETA: 1116s - loss: 4.43 - ETA: 1113s - loss: 4.43 - ETA: 1110s - loss: 4.43 - ETA: 1107s - loss: 4.43 - ETA: 1104s - loss: 4.43 - ETA: 1102s - loss: 4.43 - ETA: 1099s - loss: 4.43 - ETA: 1096s - loss: 4.43 - ETA: 1093s - loss: 4.43 - ETA: 1090s - loss: 4.43 - ETA: 1088s - loss: 4.43 - ETA: 1085s - loss: 4.43 - ETA: 1082s - loss: 4.43 - ETA: 1079s - loss: 4.43 - ETA: 1076s - loss: 4.43 - ETA: 1073s - loss: 4.43 - ETA: 1070s - loss: 4.43 - ETA: 1067s - loss: 4.43 - ETA: 1064s - loss: 4.43 - ETA: 1061s - loss: 4.43 - ETA: 1059s - loss: 4.43 - ETA: 1056s - loss: 4.43 - ETA: 1053s - loss: 4.43 - ETA: 1050s - loss: 4.43 - ETA: 1047s - loss: 4.43 - ETA: 1044s - loss: 4.43 - ETA: 1041s - loss: 4.43 - ETA: 1038s - loss: 4.43 - ETA: 1035s - loss: 4.43 - ETA: 1033s - loss: 4.43 - ETA: 1030s - loss: 4.43 - ETA: 1027s - loss: 4.43 - ETA: 1024s - loss: 4.43 - ETA: 1021s - loss: 4.43 - ETA: 1018s - loss: 4.43 - ETA: 1015s - loss: 4.43 - ETA: 1012s - loss: 4.43 - ETA: 1009s - loss: 4.43 - ETA: 1007s - loss: 4.43 - ETA: 1004s - loss: 4.43 - ETA: 1001s - loss: 4.43 - ETA: 998s - loss: 4.4340 - ETA: 995s - loss: 4.434 - ETA: 992s - loss: 4.435 - ETA: 989s - loss: 4.435 - ETA: 987s - loss: 4.435 - ETA: 984s - loss: 4.436 - ETA: 981s - loss: 4.436 - ETA: 978s - loss: 4.435 - ETA: 975s - loss: 4.434 - ETA: 972s - loss: 4.435 - ETA: 969s - loss: 4.435 - ETA: 966s - loss: 4.435 - ETA: 963s - loss: 4.436 - ETA: 961s - loss: 4.435 - ETA: 958s - loss: 4.435 - ETA: 955s - loss: 4.435 - ETA: 952s - loss: 4.435 - ETA: 949s - loss: 4.435 - ETA: 946s - loss: 4.435 - ETA: 943s - loss: 4.436 - ETA: 940s - loss: 4.435 - ETA: 938s - loss: 4.434 - ETA: 935s - loss: 4.434 - ETA: 932s - loss: 4.434 - ETA: 929s - loss: 4.434 - ETA: 926s - loss: 4.434 - ETA: 923s - loss: 4.434 - ETA: 920s - loss: 4.435 - ETA: 917s - loss: 4.435 - ETA: 915s - loss: 4.435 - ETA: 912s - loss: 4.4354"
     ]
    }
   ],
   "source": [
    "filepath = \"weights-improvement-{epoch:02d}-{loss:.4f}-bigger.hdf5\"    \n",
    "checkpoint = ModelCheckpoint(\n",
    "    filepath, monitor='loss', \n",
    "    verbose=0,        \n",
    "    save_best_only=True,        \n",
    "    mode='min'\n",
    ")    \n",
    "callbacks_list = [checkpoint]     \n",
    "model.fit(network_input, network_output, epochs=10, verbose=1, batch_size=64, callbacks=callbacks_list)"
   ]
  },
  {
   "cell_type": "code",
   "execution_count": null,
   "metadata": {
    "collapsed": true
   },
   "outputs": [],
   "source": [
    "model = Sequential()\n",
    "model.add(LSTM(512,input_shape=(network_input.shape[1], network_input.shape[2]),return_sequences=True))\n",
    "model.add(Dropout(0.3))\n",
    "model.add(LSTM(512, return_sequences=True))\n",
    "model.add(Dropout(0.3))\n",
    "model.add(LSTM(512))\n",
    "model.add(Dense(256))\n",
    "model.add(Dropout(0.3))\n",
    "model.add(Dense(n_vocab))\n",
    "model.add(Activation('softmax'))\n",
    "model.compile(loss='categorical_crossentropy', optimizer='rmsprop')\n"
   ]
  },
  {
   "cell_type": "code",
   "execution_count": null,
   "metadata": {
    "collapsed": true
   },
   "outputs": [],
   "source": [
    "# Load the weights to each node\n",
    "#model.load_weights('weights-improvement-09-3.2697-bigger.hdf5')"
   ]
  },
  {
   "cell_type": "code",
   "execution_count": null,
   "metadata": {
    "collapsed": true
   },
   "outputs": [],
   "source": [
    "start = np.random.randint(0, len(network_input)-1)\n",
    "int_to_note = dict((number, note) for number, note in enumerate(pitchnames))\n",
    "pattern = network_input[start]\n",
    "prediction_output = []\n",
    "pattern=list(pattern)\n",
    "# generate 500 notes\n",
    "for note_index in range(500):\n",
    "    prediction_input = np.reshape(pattern, (1, len(pattern), 1))\n",
    "    prediction_input = prediction_input / float(n_vocab)\n",
    "    prediction = model.predict(prediction_input, verbose=0)\n",
    "    index = np.argmax(prediction)\n",
    "    result = int_to_note[index]\n",
    "    prediction_output.append(result)\n",
    "    pattern.append(index)\n",
    "    pattern = pattern[1:len(pattern)]"
   ]
  },
  {
   "cell_type": "code",
   "execution_count": null,
   "metadata": {
    "collapsed": true
   },
   "outputs": [],
   "source": [
    "offset = 0\n",
    "output_notes = []\n",
    "# create note and chord objects based on the values generated by the model\n",
    "for pattern in prediction_output:\n",
    "    # pattern is a chord\n",
    "    if ('.' in pattern) or pattern.isdigit():\n",
    "        notes_in_chord = pattern.split('.')\n",
    "        notes = []\n",
    "        for current_note in notes_in_chord:\n",
    "            new_note = note.Note(int(current_note))\n",
    "            new_note.storedInstrument = instrument.Piano()\n",
    "            notes.append(new_note)\n",
    "        new_chord = chord.Chord(notes)\n",
    "        new_chord.offset = offset\n",
    "        output_notes.append(new_chord)\n",
    "    # pattern is a note\n",
    "    else:\n",
    "        new_note = note.Note(pattern)\n",
    "        new_note.offset = offset\n",
    "        new_note.storedInstrument = instrument.Piano()\n",
    "        output_notes.append(new_note)\n",
    "    # increase offset each iteration so that notes do not stack\n",
    "    offset += 0.5"
   ]
  },
  {
   "cell_type": "code",
   "execution_count": null,
   "metadata": {},
   "outputs": [],
   "source": [
    "midi_stream = stream.Stream(output_notes)\n",
    "midi_stream.write('midi', fp='test_output.mid')"
   ]
  },
  {
   "cell_type": "code",
   "execution_count": null,
   "metadata": {
    "collapsed": true
   },
   "outputs": [],
   "source": []
  }
 ],
 "metadata": {
  "kernelspec": {
   "display_name": "Python 3",
   "language": "python",
   "name": "python3"
  },
  "language_info": {
   "codemirror_mode": {
    "name": "ipython",
    "version": 3
   },
   "file_extension": ".py",
   "mimetype": "text/x-python",
   "name": "python",
   "nbconvert_exporter": "python",
   "pygments_lexer": "ipython3",
   "version": "3.6.3"
  }
 },
 "nbformat": 4,
 "nbformat_minor": 2
}
