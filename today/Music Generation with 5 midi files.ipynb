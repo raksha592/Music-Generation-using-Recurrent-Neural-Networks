{
 "cells": [
  {
   "cell_type": "code",
   "execution_count": 1,
   "metadata": {},
   "outputs": [
    {
     "name": "stderr",
     "output_type": "stream",
     "text": [
      "Using TensorFlow backend.\n"
     ]
    }
   ],
   "source": [
    "import numpy as np\n",
    "import tensorflow as tf\n",
    "import pandas as pd\n",
    "import glob\n",
    "from tqdm import tqdm\n",
    "from music21 import *\n",
    "from tensorflow.python.ops import control_flow_ops\n",
    "from keras.models import Sequential\n",
    "from keras.layers import Dense\n",
    "from keras.layers import Dropout\n",
    "from keras.layers import LSTM\n",
    "from keras.layers import Activation\n",
    "from keras.utils import np_utils\n",
    "from keras.callbacks import ModelCheckpoint"
   ]
  },
  {
   "cell_type": "code",
   "execution_count": 24,
   "metadata": {
    "collapsed": true
   },
   "outputs": [],
   "source": [
    "notes = []\n",
    "for file in glob.glob(\"*.mid\"):\n",
    "    midi = converter.parse(file)\n",
    "    notes_to_parse = None\n",
    "    parts = instrument.partitionByInstrument(midi)\n",
    "    if parts: # file has instrument parts\n",
    "        notes_to_parse = parts.parts[0].recurse()\n",
    "    else: # file has notes in a flat structure\n",
    "        notes_to_parse = midi.flat.notes\n",
    "    for element in notes_to_parse:\n",
    "        if isinstance(element, note.Note):\n",
    "            notes.append(str(element.pitch))\n",
    "        elif isinstance(element, chord.Chord):\n",
    "            notes.append('.'.join(str(n) for n in element.normalOrder))"
   ]
  },
  {
   "cell_type": "code",
   "execution_count": 25,
   "metadata": {
    "collapsed": true
   },
   "outputs": [],
   "source": [
    "n_vocab=len(set(notes))"
   ]
  },
  {
   "cell_type": "code",
   "execution_count": 26,
   "metadata": {
    "collapsed": true
   },
   "outputs": [],
   "source": [
    "sequence_length = 500\n",
    "# get all pitch names\n",
    "pitchnames = sorted(set(item for item in notes))\n",
    "# create a dictionary to map pitches to integers\n",
    "note_to_int = dict((note, number) for number, note in enumerate(pitchnames))\n",
    "network_input = []\n",
    "network_output = []\n",
    "# create input sequences and the corresponding outputs\n",
    "for i in range(0, len(notes) - sequence_length, 1):\n",
    "    sequence_in = notes[i:i + sequence_length]\n",
    "    sequence_out = notes[i + sequence_length]\n",
    "    network_input.append([note_to_int[char] for char in sequence_in])\n",
    "    network_output.append(note_to_int[sequence_out])\n",
    "n_patterns = len(network_input)\n",
    "# reshape the input into a format compatible with LSTM layers\n",
    "network_input = np.reshape(network_input, (n_patterns, sequence_length, 1))\n",
    "# normalize input\n",
    "network_input = network_input / float(n_vocab)\n",
    "network_output = np_utils.to_categorical(network_output)"
   ]
  },
  {
   "cell_type": "code",
   "execution_count": 27,
   "metadata": {
    "collapsed": true
   },
   "outputs": [],
   "source": [
    "model = Sequential()\n",
    "model.add(LSTM(256,input_shape=(network_input.shape[1], network_input.shape[2]),return_sequences=True))\n",
    "model.add(Dropout(0.3))\n",
    "model.add(LSTM(512, return_sequences=True))\n",
    "model.add(Dropout(0.3))\n",
    "model.add(LSTM(256))\n",
    "model.add(Dense(256))\n",
    "model.add(Dropout(0.3))\n",
    "model.add(Dense(n_vocab))\n",
    "model.add(Activation('softmax'))\n",
    "model.compile(loss='categorical_crossentropy', optimizer='rmsprop')"
   ]
  },
  {
   "cell_type": "code",
   "execution_count": null,
   "metadata": {
    "scrolled": true
   },
   "outputs": [
    {
     "name": "stdout",
     "output_type": "stream",
     "text": [
      "Epoch 1/10\n",
      "15185/15185 [==============================] - ETA: 4511s - loss: 5.40 - ETA: 4493s - loss: 5.40 - ETA: 4646s - loss: 5.37 - ETA: 4850s - loss: 5.52 - ETA: 5002s - loss: 5.47 - ETA: 5180s - loss: 5.40 - ETA: 5334s - loss: 5.36 - ETA: 5523s - loss: 5.29 - ETA: 5742s - loss: 5.24 - ETA: 5963s - loss: 5.23 - ETA: 6176s - loss: 5.21 - ETA: 6357s - loss: 5.19 - ETA: 6559s - loss: 5.17 - ETA: 6758s - loss: 5.15 - ETA: 6936s - loss: 5.13 - ETA: 7110s - loss: 5.10 - ETA: 7236s - loss: 5.08 - ETA: 7357s - loss: 5.06 - ETA: 7450s - loss: 5.05 - ETA: 7560s - loss: 5.05 - ETA: 7652s - loss: 5.05 - ETA: 7720s - loss: 5.04 - ETA: 7832s - loss: 5.04 - ETA: 7914s - loss: 5.03 - ETA: 7985s - loss: 5.02 - ETA: 8043s - loss: 5.02 - ETA: 8095s - loss: 5.01 - ETA: 8136s - loss: 5.01 - ETA: 8194s - loss: 5.00 - ETA: 8245s - loss: 5.00 - ETA: 8304s - loss: 4.99 - ETA: 8324s - loss: 4.97 - ETA: 8346s - loss: 4.97 - ETA: 8375s - loss: 4.96 - ETA: 8406s - loss: 4.95 - ETA: 8409s - loss: 4.94 - ETA: 8432s - loss: 4.94 - ETA: 8446s - loss: 4.93 - ETA: 8449s - loss: 4.93 - ETA: 8446s - loss: 4.92 - ETA: 8459s - loss: 4.92 - ETA: 8473s - loss: 4.91 - ETA: 8486s - loss: 4.91 - ETA: 8490s - loss: 4.90 - ETA: 8481s - loss: 4.90 - ETA: 8463s - loss: 4.90 - ETA: 8459s - loss: 4.90 - ETA: 8470s - loss: 4.90 - ETA: 8476s - loss: 4.90 - ETA: 8486s - loss: 4.90 - ETA: 8470s - loss: 4.89 - ETA: 8462s - loss: 4.90 - ETA: 8451s - loss: 4.89 - ETA: 8443s - loss: 4.89 - ETA: 8421s - loss: 4.89 - ETA: 8395s - loss: 4.89 - ETA: 8388s - loss: 4.88 - ETA: 8382s - loss: 4.88 - ETA: 8369s - loss: 4.87 - ETA: 8353s - loss: 4.87 - ETA: 8327s - loss: 4.87 - ETA: 8314s - loss: 4.86 - ETA: 8292s - loss: 4.86 - ETA: 8265s - loss: 4.86 - ETA: 8239s - loss: 4.86 - ETA: 8213s - loss: 4.86 - ETA: 8175s - loss: 4.86 - ETA: 8145s - loss: 4.85 - ETA: 8112s - loss: 4.85 - ETA: 8081s - loss: 4.85 - ETA: 8054s - loss: 4.84 - ETA: 8022s - loss: 4.84 - ETA: 7991s - loss: 4.84 - ETA: 7974s - loss: 4.84 - ETA: 7939s - loss: 4.84 - ETA: 7906s - loss: 4.84 - ETA: 7870s - loss: 4.84 - ETA: 7852s - loss: 4.84 - ETA: 7825s - loss: 4.83 - ETA: 7795s - loss: 4.83 - ETA: 7758s - loss: 4.83 - ETA: 7722s - loss: 4.83 - ETA: 7690s - loss: 4.83 - ETA: 7659s - loss: 4.82 - ETA: 7627s - loss: 4.82 - ETA: 7596s - loss: 4.82 - ETA: 7563s - loss: 4.82 - ETA: 7529s - loss: 4.82 - ETA: 7496s - loss: 4.82 - ETA: 7465s - loss: 4.82 - ETA: 7437s - loss: 4.81 - ETA: 7408s - loss: 4.81 - ETA: 7373s - loss: 4.81 - ETA: 7346s - loss: 4.81 - ETA: 7306s - loss: 4.80 - ETA: 7268s - loss: 4.80 - ETA: 7229s - loss: 4.80 - ETA: 7232s - loss: 4.79 - ETA: 7264s - loss: 4.79 - ETA: 7290s - loss: 4.79 - ETA: 7322s - loss: 4.79 - ETA: 7348s - loss: 4.79 - ETA: 7373s - loss: 4.78 - ETA: 7397s - loss: 4.78 - ETA: 7409s - loss: 4.78 - ETA: 7423s - loss: 4.78 - ETA: 7430s - loss: 4.78 - ETA: 7436s - loss: 4.78 - ETA: 7441s - loss: 4.77 - ETA: 7446s - loss: 4.77 - ETA: 7446s - loss: 4.77 - ETA: 7445s - loss: 4.76 - ETA: 7442s - loss: 4.76 - ETA: 7442s - loss: 4.76 - ETA: 7436s - loss: 4.76 - ETA: 7428s - loss: 4.76 - ETA: 7413s - loss: 4.76 - ETA: 7407s - loss: 4.75 - ETA: 7401s - loss: 4.75 - ETA: 7388s - loss: 4.75 - ETA: 7374s - loss: 4.75 - ETA: 7355s - loss: 4.75 - ETA: 7341s - loss: 4.75 - ETA: 7322s - loss: 4.74 - ETA: 7302s - loss: 4.74 - ETA: 7279s - loss: 4.74 - ETA: 7253s - loss: 4.74 - ETA: 7227s - loss: 4.74 - ETA: 7200s - loss: 4.74 - ETA: 7175s - loss: 4.74 - ETA: 7146s - loss: 4.74 - ETA: 7115s - loss: 4.74 - ETA: 7085s - loss: 4.73 - ETA: 7057s - loss: 4.73 - ETA: 7024s - loss: 4.73 - ETA: 6986s - loss: 4.73 - ETA: 6951s - loss: 4.73 - ETA: 6916s - loss: 4.73 - ETA: 6879s - loss: 4.73 - ETA: 6841s - loss: 4.73 - ETA: 6803s - loss: 4.73 - ETA: 6756s - loss: 4.72 - ETA: 6718s - loss: 4.72 - ETA: 6679s - loss: 4.72 - ETA: 6640s - loss: 4.72 - ETA: 6596s - loss: 4.72 - ETA: 6555s - loss: 4.72 - ETA: 6513s - loss: 4.72 - ETA: 6469s - loss: 4.72 - ETA: 6430s - loss: 4.72 - ETA: 6382s - loss: 4.72 - ETA: 6332s - loss: 4.72 - ETA: 6281s - loss: 4.72 - ETA: 6234s - loss: 4.72 - ETA: 6183s - loss: 4.71 - ETA: 6130s - loss: 4.71 - ETA: 6077s - loss: 4.71 - ETA: 6024s - loss: 4.71 - ETA: 5971s - loss: 4.71 - ETA: 5916s - loss: 4.71 - ETA: 5862s - loss: 4.71 - ETA: 5806s - loss: 4.71 - ETA: 5747s - loss: 4.71 - ETA: 5689s - loss: 4.71 - ETA: 5630s - loss: 4.71 - ETA: 5575s - loss: 4.71 - ETA: 5518s - loss: 4.71 - ETA: 5460s - loss: 4.70 - ETA: 5394s - loss: 4.70 - ETA: 5333s - loss: 4.70 - ETA: 5269s - loss: 4.70 - ETA: 5207s - loss: 4.70 - ETA: 5142s - loss: 4.70 - ETA: 5077s - loss: 4.70 - ETA: 5011s - loss: 4.70 - ETA: 4946s - loss: 4.70 - ETA: 4881s - loss: 4.70 - ETA: 4813s - loss: 4.70 - ETA: 4745s - loss: 4.70 - ETA: 4676s - loss: 4.70 - ETA: 4608s - loss: 4.70 - ETA: 4541s - loss: 4.69 - ETA: 4473s - loss: 4.69 - ETA: 4403s - loss: 4.69 - ETA: 4332s - loss: 4.69 - ETA: 4261s - loss: 4.69 - ETA: 4189s - loss: 4.69 - ETA: 4116s - loss: 4.69 - ETA: 4043s - loss: 4.69 - ETA: 3970s - loss: 4.69 - ETA: 3896s - loss: 4.69 - ETA: 3824s - loss: 4.69 - ETA: 3749s - loss: 4.68 - ETA: 3673s - loss: 4.68 - ETA: 3597s - loss: 4.68 - ETA: 3522s - loss: 4.68 - ETA: 3447s - loss: 4.68 - ETA: 3373s - loss: 4.68 - ETA: 3296s - loss: 4.68 - ETA: 3218s - loss: 4.68 - ETA: 3140s - loss: 4.68 - ETA: 3061s - loss: 4.68 - ETA: 2981s - loss: 4.68 - ETA: 2902s - loss: 4.68 - ETA: 2822s - loss: 4.68 - ETA: 2741s - loss: 4.68 - ETA: 2659s - loss: 4.67 - ETA: 2579s - loss: 4.67 - ETA: 2497s - loss: 4.67 - ETA: 2414s - loss: 4.67 - ETA: 2331s - loss: 4.67 - ETA: 2248s - loss: 4.67 - ETA: 2164s - loss: 4.67 - ETA: 2079s - loss: 4.67 - ETA: 1993s - loss: 4.67 - ETA: 1908s - loss: 4.67 - ETA: 1822s - loss: 4.67 - ETA: 1735s - loss: 4.67 - ETA: 1649s - loss: 4.67 - ETA: 1561s - loss: 4.67 - ETA: 1472s - loss: 4.66 - ETA: 1384s - loss: 4.66 - ETA: 1295s - loss: 4.66 - ETA: 1206s - loss: 4.66 - ETA: 1117s - loss: 4.66 - ETA: 1028s - loss: 4.66 - ETA: 938s - loss: 4.6681 - ETA: 848s - loss: 4.667 - ETA: 757s - loss: 4.665 - ETA: 667s - loss: 4.664 - ETA: 576s - loss: 4.664 - ETA: 484s - loss: 4.664 - ETA: 393s - loss: 4.664 - ETA: 301s - loss: 4.663 - ETA: 209s - loss: 4.663 - ETA: 117s - loss: 4.662 - ETA: 24s - loss: 4.662 - 22051s - loss: 4.6617  \n",
      "Epoch 2/10\n"
     ]
    }
   ],
   "source": [
    "filepath = \"weights-improvement-{epoch:02d}-{loss:.4f}-bigger.hdf5\"    \n",
    "checkpoint = ModelCheckpoint(\n",
    "    filepath, monitor='loss', \n",
    "    verbose=0,        \n",
    "    save_best_only=True,        \n",
    "    mode='min'\n",
    ")    \n",
    "callbacks_list = [checkpoint]     \n",
    "model.fit(network_input, network_output, epochs=10, verbose=1, batch_size=64, callbacks=callbacks_list)"
   ]
  },
  {
   "cell_type": "code",
   "execution_count": 15,
   "metadata": {
    "collapsed": true
   },
   "outputs": [],
   "source": [
    "model = Sequential()\n",
    "model.add(LSTM(256,input_shape=(network_input.shape[1], network_input.shape[2]),return_sequences=True))\n",
    "model.add(Dropout(0.3))\n",
    "model.add(LSTM(512, return_sequences=True))\n",
    "model.add(Dropout(0.3))\n",
    "model.add(LSTM(256))\n",
    "model.add(Dense(256))\n",
    "model.add(Dropout(0.3))\n",
    "model.add(Dense(n_vocab))\n",
    "model.add(Activation('softmax'))\n",
    "model.compile(loss='categorical_crossentropy', optimizer='rmsprop')\n"
   ]
  },
  {
   "cell_type": "code",
   "execution_count": 16,
   "metadata": {
    "collapsed": true
   },
   "outputs": [],
   "source": [
    "# Load the weights to each node\n",
    "model.load_weights('weights-improvement-09-3.6366-bigger.hdf5')"
   ]
  },
  {
   "cell_type": "code",
   "execution_count": null,
   "metadata": {
    "collapsed": true
   },
   "outputs": [],
   "source": [
    "start = np.random.randint(0, len(network_input)-1)\n",
    "int_to_note = dict((number, note) for number, note in enumerate(pitchnames))\n",
    "pattern = network_input[start]\n",
    "prediction_output = []\n",
    "pattern=list(pattern)\n",
    "# generate 500 notes\n",
    "for note_index in range(50):\n",
    "    prediction_input = np.reshape(pattern, (1, len(pattern), 1))\n",
    "    prediction_input = prediction_input / float(n_vocab)\n",
    "    prediction = model.predict(prediction_input, verbose=0)\n",
    "    index = np.argmax(prediction)\n",
    "    result = int_to_note[index]\n",
    "    prediction_output.append(result)\n",
    "    pattern.append(index)\n",
    "    pattern = pattern[1:len(pattern)]"
   ]
  },
  {
   "cell_type": "code",
   "execution_count": 21,
   "metadata": {
    "collapsed": true
   },
   "outputs": [],
   "source": [
    "offset = 0\n",
    "output_notes = []\n",
    "# create note and chord objects based on the values generated by the model\n",
    "for pattern in prediction_output:\n",
    "    # pattern is a chord\n",
    "    if ('.' in pattern) or pattern.isdigit():\n",
    "        notes_in_chord = pattern.split('.')\n",
    "        notes = []\n",
    "        for current_note in notes_in_chord:\n",
    "            new_note = note.Note(int(current_note))\n",
    "            new_note.storedInstrument = instrument.Piano()\n",
    "            notes.append(new_note)\n",
    "        new_chord = chord.Chord(notes)\n",
    "        new_chord.offset = offset\n",
    "        output_notes.append(new_chord)\n",
    "    # pattern is a note\n",
    "    else:\n",
    "        new_note = note.Note(pattern)\n",
    "        new_note.offset = offset\n",
    "        new_note.storedInstrument = instrument.Piano()\n",
    "        output_notes.append(new_note)\n",
    "    # increase offset each iteration so that notes do not stack\n",
    "    offset += 0.5"
   ]
  },
  {
   "cell_type": "code",
   "execution_count": 23,
   "metadata": {},
   "outputs": [
    {
     "data": {
      "text/plain": [
       "'Music_5MidiFiles.mid'"
      ]
     },
     "execution_count": 23,
     "metadata": {},
     "output_type": "execute_result"
    }
   ],
   "source": [
    "midi_stream = stream.Stream(output_notes)\n",
    "midi_stream.write('midi', fp='Music_5MidiFiles.mid')"
   ]
  },
  {
   "cell_type": "code",
   "execution_count": null,
   "metadata": {
    "collapsed": true
   },
   "outputs": [],
   "source": []
  }
 ],
 "metadata": {
  "kernelspec": {
   "display_name": "Python 3",
   "language": "python",
   "name": "python3"
  },
  "language_info": {
   "codemirror_mode": {
    "name": "ipython",
    "version": 3
   },
   "file_extension": ".py",
   "mimetype": "text/x-python",
   "name": "python",
   "nbconvert_exporter": "python",
   "pygments_lexer": "ipython3",
   "version": "3.6.3"
  }
 },
 "nbformat": 4,
 "nbformat_minor": 2
}
