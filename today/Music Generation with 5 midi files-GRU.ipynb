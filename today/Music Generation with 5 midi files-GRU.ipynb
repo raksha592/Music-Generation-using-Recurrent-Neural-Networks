{
 "cells": [
  {
   "cell_type": "code",
   "execution_count": 1,
   "metadata": {},
   "outputs": [
    {
     "name": "stderr",
     "output_type": "stream",
     "text": [
      "Using TensorFlow backend.\n"
     ]
    }
   ],
   "source": [
    "import numpy as np\n",
    "import tensorflow as tf\n",
    "import pandas as pd\n",
    "import glob\n",
    "from tqdm import tqdm\n",
    "from music21 import *\n",
    "from tensorflow.python.ops import control_flow_ops\n",
    "from keras.models import Sequential\n",
    "from keras.layers import Dense\n",
    "from keras.layers import Dropout\n",
    "from keras.layers import LSTM, GRU\n",
    "from keras.layers import Activation\n",
    "from keras.utils import np_utils\n",
    "from keras.callbacks import ModelCheckpoint"
   ]
  },
  {
   "cell_type": "code",
   "execution_count": 2,
   "metadata": {
    "collapsed": true
   },
   "outputs": [],
   "source": [
    "notes = []\n",
    "for file in glob.glob(\"*.mid\"):\n",
    "    midi = converter.parse(file)\n",
    "    notes_to_parse = None\n",
    "    parts = instrument.partitionByInstrument(midi)\n",
    "    if parts: # file has instrument parts\n",
    "        notes_to_parse = parts.parts[0].recurse()\n",
    "    else: # file has notes in a flat structure\n",
    "        notes_to_parse = midi.flat.notes\n",
    "    for element in notes_to_parse:\n",
    "        if isinstance(element, note.Note):\n",
    "            notes.append(str(element.pitch))\n",
    "        elif isinstance(element, chord.Chord):\n",
    "            notes.append('.'.join(str(n) for n in element.normalOrder))"
   ]
  },
  {
   "cell_type": "code",
   "execution_count": 3,
   "metadata": {
    "collapsed": true
   },
   "outputs": [],
   "source": [
    "n_vocab=len(set(notes))"
   ]
  },
  {
   "cell_type": "code",
   "execution_count": 4,
   "metadata": {
    "collapsed": true
   },
   "outputs": [],
   "source": [
    "sequence_length = 100\n",
    "# get all pitch names\n",
    "pitchnames = sorted(set(item for item in notes))\n",
    "# create a dictionary to map pitches to integers\n",
    "note_to_int = dict((note, number) for number, note in enumerate(pitchnames))\n",
    "network_input = []\n",
    "network_output = []\n",
    "# create input sequences and the corresponding outputs\n",
    "for i in range(0, len(notes) - sequence_length, 1):\n",
    "    sequence_in = notes[i:i + sequence_length]\n",
    "    sequence_out = notes[i + sequence_length]\n",
    "    network_input.append([note_to_int[char] for char in sequence_in])\n",
    "    network_output.append(note_to_int[sequence_out])\n",
    "n_patterns = len(network_input)\n",
    "# reshape the input into a format compatible with LSTM layers\n",
    "network_input = np.reshape(network_input, (n_patterns, sequence_length, 1))\n",
    "# normalize input\n",
    "network_input = network_input / float(n_vocab)\n",
    "network_output = np_utils.to_categorical(network_output)"
   ]
  },
  {
   "cell_type": "code",
   "execution_count": 6,
   "metadata": {},
   "outputs": [
    {
     "name": "stdout",
     "output_type": "stream",
     "text": [
      "_________________________________________________________________\n",
      "Layer (type)                 Output Shape              Param #   \n",
      "=================================================================\n",
      "gru_2 (GRU)                  (None, 100, 256)          198144    \n",
      "_________________________________________________________________\n",
      "dropout_2 (Dropout)          (None, 100, 256)          0         \n",
      "_________________________________________________________________\n",
      "lstm_1 (LSTM)                (None, 256)               525312    \n",
      "_________________________________________________________________\n",
      "dense_2 (Dense)              (None, 222)               57054     \n",
      "=================================================================\n",
      "Total params: 780,510\n",
      "Trainable params: 780,510\n",
      "Non-trainable params: 0\n",
      "_________________________________________________________________\n"
     ]
    }
   ],
   "source": [
    "model = Sequential()\n",
    "model.add(GRU(256,input_shape=(network_input.shape[1], network_input.shape[2]),return_sequences=True))\n",
    "\n",
    "model.add(Dropout(0.3))\n",
    "model.add(LSTM(256))\n",
    "model.add(Dense(n_vocab))\n",
    "\n",
    "model.compile(loss='mean_squared_error', optimizer='rmsprop')\n",
    "model.summary()"
   ]
  },
  {
   "cell_type": "code",
   "execution_count": null,
   "metadata": {},
   "outputs": [],
   "source": [
    "cur_iter = 0\n",
    "while cur_iter < 50:\n",
    "    print('iter',str(cur_iter))\n",
    "    model.fit(network_input, network_output, epochs=25, verbose=1, batch_size=10)\n",
    "    cur_iter+=25\n"
   ]
  },
  {
   "cell_type": "code",
   "execution_count": 27,
   "metadata": {
    "collapsed": true
   },
   "outputs": [],
   "source": [
    "model = Sequential()\n",
    "model.add(LSTM(256,input_shape=(network_input.shape[1], network_input.shape[2]),return_sequences=True))\n",
    "model.add(Dropout(0.3))\n",
    "model.add(LSTM(512, return_sequences=True))\n",
    "model.add(Dropout(0.3))\n",
    "model.add(LSTM(256))\n",
    "model.add(Dense(256))\n",
    "model.add(Dropout(0.3))\n",
    "model.add(Dense(n_vocab))\n",
    "model.add(Activation('softmax'))\n",
    "model.compile(loss='categorical_crossentropy', optimizer='rmsprop')"
   ]
  },
  {
   "cell_type": "code",
   "execution_count": null,
   "metadata": {
    "scrolled": true
   },
   "outputs": [
    {
     "name": "stdout",
     "output_type": "stream",
     "text": [
      "Epoch 1/10\n",
      " 5696/15185 [==========>...................] - ETA: 4511s - loss: 5.40 - ETA: 4493s - loss: 5.40 - ETA: 4646s - loss: 5.37 - ETA: 4850s - loss: 5.52 - ETA: 5002s - loss: 5.47 - ETA: 5180s - loss: 5.40 - ETA: 5334s - loss: 5.36 - ETA: 5523s - loss: 5.29 - ETA: 5742s - loss: 5.24 - ETA: 5963s - loss: 5.23 - ETA: 6176s - loss: 5.21 - ETA: 6357s - loss: 5.19 - ETA: 6559s - loss: 5.17 - ETA: 6758s - loss: 5.15 - ETA: 6936s - loss: 5.13 - ETA: 7110s - loss: 5.10 - ETA: 7236s - loss: 5.08 - ETA: 7357s - loss: 5.06 - ETA: 7450s - loss: 5.05 - ETA: 7560s - loss: 5.05 - ETA: 7652s - loss: 5.05 - ETA: 7720s - loss: 5.04 - ETA: 7832s - loss: 5.04 - ETA: 7914s - loss: 5.03 - ETA: 7985s - loss: 5.02 - ETA: 8043s - loss: 5.02 - ETA: 8095s - loss: 5.01 - ETA: 8136s - loss: 5.01 - ETA: 8194s - loss: 5.00 - ETA: 8245s - loss: 5.00 - ETA: 8304s - loss: 4.99 - ETA: 8324s - loss: 4.97 - ETA: 8346s - loss: 4.97 - ETA: 8375s - loss: 4.96 - ETA: 8406s - loss: 4.95 - ETA: 8409s - loss: 4.94 - ETA: 8432s - loss: 4.94 - ETA: 8446s - loss: 4.93 - ETA: 8449s - loss: 4.93 - ETA: 8446s - loss: 4.92 - ETA: 8459s - loss: 4.92 - ETA: 8473s - loss: 4.91 - ETA: 8486s - loss: 4.91 - ETA: 8490s - loss: 4.90 - ETA: 8481s - loss: 4.90 - ETA: 8463s - loss: 4.90 - ETA: 8459s - loss: 4.90 - ETA: 8470s - loss: 4.90 - ETA: 8476s - loss: 4.90 - ETA: 8486s - loss: 4.90 - ETA: 8470s - loss: 4.89 - ETA: 8462s - loss: 4.90 - ETA: 8451s - loss: 4.89 - ETA: 8443s - loss: 4.89 - ETA: 8421s - loss: 4.89 - ETA: 8395s - loss: 4.89 - ETA: 8388s - loss: 4.88 - ETA: 8382s - loss: 4.88 - ETA: 8369s - loss: 4.87 - ETA: 8353s - loss: 4.87 - ETA: 8327s - loss: 4.87 - ETA: 8314s - loss: 4.86 - ETA: 8292s - loss: 4.86 - ETA: 8265s - loss: 4.86 - ETA: 8239s - loss: 4.86 - ETA: 8213s - loss: 4.86 - ETA: 8175s - loss: 4.86 - ETA: 8145s - loss: 4.85 - ETA: 8112s - loss: 4.85 - ETA: 8081s - loss: 4.85 - ETA: 8054s - loss: 4.84 - ETA: 8022s - loss: 4.84 - ETA: 7991s - loss: 4.84 - ETA: 7974s - loss: 4.84 - ETA: 7939s - loss: 4.84 - ETA: 7906s - loss: 4.84 - ETA: 7870s - loss: 4.84 - ETA: 7852s - loss: 4.84 - ETA: 7825s - loss: 4.83 - ETA: 7795s - loss: 4.83 - ETA: 7758s - loss: 4.83 - ETA: 7722s - loss: 4.83 - ETA: 7690s - loss: 4.83 - ETA: 7659s - loss: 4.82 - ETA: 7627s - loss: 4.82 - ETA: 7596s - loss: 4.82 - ETA: 7563s - loss: 4.82 - ETA: 7529s - loss: 4.82 - ETA: 7496s - loss: 4.8220"
     ]
    }
   ],
   "source": [
    "filepath = \"weights-improvement-{epoch:02d}-{loss:.4f}-bigger.hdf5\"    \n",
    "checkpoint = ModelCheckpoint(\n",
    "    filepath, monitor='loss', \n",
    "    verbose=0,        \n",
    "    save_best_only=True,        \n",
    "    mode='min'\n",
    ")    \n",
    "callbacks_list = [checkpoint]     \n",
    "model.fit(network_input, network_output, epochs=10, verbose=1, batch_size=64, callbacks=callbacks_list)"
   ]
  },
  {
   "cell_type": "code",
   "execution_count": 15,
   "metadata": {
    "collapsed": true
   },
   "outputs": [],
   "source": [
    "model = Sequential()\n",
    "model.add(LSTM(256,input_shape=(network_input.shape[1], network_input.shape[2]),return_sequences=True))\n",
    "model.add(Dropout(0.3))\n",
    "model.add(LSTM(512, return_sequences=True))\n",
    "model.add(Dropout(0.3))\n",
    "model.add(LSTM(256))\n",
    "model.add(Dense(256))\n",
    "model.add(Dropout(0.3))\n",
    "model.add(Dense(n_vocab))\n",
    "model.add(Activation('softmax'))\n",
    "model.compile(loss='categorical_crossentropy', optimizer='rmsprop')\n"
   ]
  },
  {
   "cell_type": "code",
   "execution_count": 16,
   "metadata": {
    "collapsed": true
   },
   "outputs": [],
   "source": [
    "# Load the weights to each node\n",
    "model.load_weights('weights-improvement-09-3.6366-bigger.hdf5')"
   ]
  },
  {
   "cell_type": "code",
   "execution_count": null,
   "metadata": {
    "collapsed": true
   },
   "outputs": [],
   "source": [
    "start = np.random.randint(0, len(network_input)-1)\n",
    "int_to_note = dict((number, note) for number, note in enumerate(pitchnames))\n",
    "pattern = network_input[start]\n",
    "prediction_output = []\n",
    "pattern=list(pattern)\n",
    "# generate 500 notes\n",
    "for note_index in range(50):\n",
    "    prediction_input = np.reshape(pattern, (1, len(pattern), 1))\n",
    "    prediction_input = prediction_input / float(n_vocab)\n",
    "    prediction = model.predict(prediction_input, verbose=0)\n",
    "    index = np.argmax(prediction)\n",
    "    result = int_to_note[index]\n",
    "    prediction_output.append(result)\n",
    "    pattern.append(index)\n",
    "    pattern = pattern[1:len(pattern)]"
   ]
  },
  {
   "cell_type": "code",
   "execution_count": 21,
   "metadata": {
    "collapsed": true
   },
   "outputs": [],
   "source": [
    "offset = 0\n",
    "output_notes = []\n",
    "# create note and chord objects based on the values generated by the model\n",
    "for pattern in prediction_output:\n",
    "    # pattern is a chord\n",
    "    if ('.' in pattern) or pattern.isdigit():\n",
    "        notes_in_chord = pattern.split('.')\n",
    "        notes = []\n",
    "        for current_note in notes_in_chord:\n",
    "            new_note = note.Note(int(current_note))\n",
    "            new_note.storedInstrument = instrument.Piano()\n",
    "            notes.append(new_note)\n",
    "        new_chord = chord.Chord(notes)\n",
    "        new_chord.offset = offset\n",
    "        output_notes.append(new_chord)\n",
    "    # pattern is a note\n",
    "    else:\n",
    "        new_note = note.Note(pattern)\n",
    "        new_note.offset = offset\n",
    "        new_note.storedInstrument = instrument.Piano()\n",
    "        output_notes.append(new_note)\n",
    "    # increase offset each iteration so that notes do not stack\n",
    "    offset += 0.5"
   ]
  },
  {
   "cell_type": "code",
   "execution_count": 23,
   "metadata": {},
   "outputs": [
    {
     "data": {
      "text/plain": [
       "'Music_5MidiFiles.mid'"
      ]
     },
     "execution_count": 23,
     "metadata": {},
     "output_type": "execute_result"
    }
   ],
   "source": [
    "midi_stream = stream.Stream(output_notes)\n",
    "midi_stream.write('midi', fp='Music_5MidiFiles.mid')"
   ]
  },
  {
   "cell_type": "code",
   "execution_count": null,
   "metadata": {
    "collapsed": true
   },
   "outputs": [],
   "source": []
  }
 ],
 "metadata": {
  "kernelspec": {
   "display_name": "Python 3",
   "language": "python",
   "name": "python3"
  }
 },
 "nbformat": 4,
 "nbformat_minor": 2
}
