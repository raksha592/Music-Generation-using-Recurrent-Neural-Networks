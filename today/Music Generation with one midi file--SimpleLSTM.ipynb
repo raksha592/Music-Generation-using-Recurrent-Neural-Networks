{
 "cells": [
  {
   "cell_type": "code",
   "execution_count": 10,
   "metadata": {},
   "outputs": [
    {
     "name": "stdout",
     "output_type": "stream",
     "text": [
      "Requirement already satisfied: matplotlib in c:\\users\\kapre.a\\appdata\\local\\continuum\\anaconda3\\lib\\site-packages\n",
      "Requirement already satisfied: numpy>=1.7.1 in c:\\users\\kapre.a\\appdata\\local\\continuum\\anaconda3\\lib\\site-packages (from matplotlib)\n",
      "Requirement already satisfied: six>=1.10 in c:\\users\\kapre.a\\appdata\\local\\continuum\\anaconda3\\lib\\site-packages (from matplotlib)\n",
      "Requirement already satisfied: python-dateutil>=2.0 in c:\\users\\kapre.a\\appdata\\local\\continuum\\anaconda3\\lib\\site-packages (from matplotlib)\n",
      "Requirement already satisfied: pytz in c:\\users\\kapre.a\\appdata\\local\\continuum\\anaconda3\\lib\\site-packages (from matplotlib)\n",
      "Requirement already satisfied: cycler>=0.10 in c:\\users\\kapre.a\\appdata\\local\\continuum\\anaconda3\\lib\\site-packages (from matplotlib)\n",
      "Requirement already satisfied: pyparsing!=2.0.4,!=2.1.2,!=2.1.6,>=2.0.1 in c:\\users\\kapre.a\\appdata\\local\\continuum\\anaconda3\\lib\\site-packages (from matplotlib)\n"
     ]
    }
   ],
   "source": [
    "#!pip install tensorflow\n",
    "#!pip install tqdm\n",
    "#!pip install --upgrade music21\n",
    "#!pip install pandas\n",
    "#!pip install glob\n",
    "#!pip install KERAS\n",
    "#!pip install matplotlib"
   ]
  },
  {
   "cell_type": "code",
   "execution_count": 1,
   "metadata": {},
   "outputs": [
    {
     "name": "stderr",
     "output_type": "stream",
     "text": [
      "Using TensorFlow backend.\n"
     ]
    }
   ],
   "source": [
    "import numpy as np\n",
    "import tensorflow as tf\n",
    "import pandas as pd\n",
    "import glob\n",
    "from tqdm import tqdm\n",
    "from music21 import *\n",
    "from tensorflow.python.ops import control_flow_ops\n",
    "from keras.models import Sequential\n",
    "from keras.layers import Dense\n",
    "from keras.layers import Dropout\n",
    "from keras.layers import LSTM\n",
    "from keras.layers import Activation\n",
    "from keras.utils import np_utils\n",
    "from keras.callbacks import ModelCheckpoint\n"
   ]
  },
  {
   "cell_type": "code",
   "execution_count": 11,
   "metadata": {
    "collapsed": true
   },
   "outputs": [],
   "source": [
    "import matplotlib as mpl\n",
    "import matplotlib.pyplot as plt"
   ]
  },
  {
   "cell_type": "code",
   "execution_count": 2,
   "metadata": {
    "collapsed": true
   },
   "outputs": [],
   "source": [
    "notes = []\n",
    "for file in glob.glob(\"*.mid\"):\n",
    "    midi = converter.parse(file)\n",
    "    notes_to_parse = None\n",
    "    parts = instrument.partitionByInstrument(midi)\n",
    "    if parts: # file has instrument parts\n",
    "        notes_to_parse = parts.parts[0].recurse()\n",
    "    else: # file has notes in a flat structure\n",
    "        notes_to_parse = midi.flat.notes\n",
    "    for element in notes_to_parse:\n",
    "        if isinstance(element, note.Note):\n",
    "            notes.append(str(element.pitch))\n",
    "        elif isinstance(element, chord.Chord):\n",
    "            notes.append('.'.join(str(n) for n in element.normalOrder))"
   ]
  },
  {
   "cell_type": "code",
   "execution_count": 3,
   "metadata": {
    "collapsed": true
   },
   "outputs": [],
   "source": [
    "n_vocab=len(set(notes))"
   ]
  },
  {
   "cell_type": "code",
   "execution_count": 4,
   "metadata": {
    "collapsed": true
   },
   "outputs": [],
   "source": [
    "sequence_length = 500\n",
    "# get all pitch names\n",
    "pitchnames = sorted(set(item for item in notes))\n",
    "# create a dictionary to map pitches to integers\n",
    "note_to_int = dict((note, number) for number, note in enumerate(pitchnames))\n",
    "network_input = []\n",
    "network_output = []\n",
    "# create input sequences and the corresponding outputs\n",
    "for i in range(0, len(notes) - sequence_length, 1):\n",
    "    sequence_in = notes[i:i + sequence_length]\n",
    "    sequence_out = notes[i + sequence_length]\n",
    "    network_input.append([note_to_int[char] for char in sequence_in])\n",
    "    network_output.append(note_to_int[sequence_out])\n",
    "n_patterns = len(network_input)\n",
    "# reshape the input into a format compatible with LSTM layers\n",
    "network_input = np.reshape(network_input, (n_patterns, sequence_length, 1))\n",
    "# normalize input\n",
    "network_input = network_input / float(n_vocab)\n",
    "network_output = np_utils.to_categorical(network_output)"
   ]
  },
  {
   "cell_type": "code",
   "execution_count": 5,
   "metadata": {},
   "outputs": [
    {
     "name": "stdout",
     "output_type": "stream",
     "text": [
      "InputLength: 6453\n"
     ]
    }
   ],
   "source": [
    "print('InputLength:',len(network_input))"
   ]
  },
  {
   "cell_type": "code",
   "execution_count": 12,
   "metadata": {},
   "outputs": [
    {
     "name": "stdout",
     "output_type": "stream",
     "text": [
      "_________________________________________________________________\n",
      "Layer (type)                 Output Shape              Param #   \n",
      "=================================================================\n",
      "lstm_3 (LSTM)                (None, 500, 256)          264192    \n",
      "_________________________________________________________________\n",
      "dropout_2 (Dropout)          (None, 500, 256)          0         \n",
      "_________________________________________________________________\n",
      "lstm_4 (LSTM)                (None, 256)               525312    \n",
      "_________________________________________________________________\n",
      "dense_2 (Dense)              (None, 155)               39835     \n",
      "=================================================================\n",
      "Total params: 829,339\n",
      "Trainable params: 829,339\n",
      "Non-trainable params: 0\n",
      "_________________________________________________________________\n"
     ]
    }
   ],
   "source": [
    "model = Sequential()\n",
    "model.add(LSTM(256,input_shape=(network_input.shape[1], network_input.shape[2]),return_sequences=True))\n",
    "model.add(Dropout(0.25))\n",
    "model.add(LSTM(256))\n",
    "model.add(Dense(n_vocab,activation='softmax'))\n",
    "model.compile(loss='categorical_crossentropy', optimizer='rmsprop',metrics=['categorical_crossentropy','accuracy'])\n",
    "model.summary()"
   ]
  },
  {
   "cell_type": "code",
   "execution_count": null,
   "metadata": {},
   "outputs": [
    {
     "name": "stdout",
     "output_type": "stream",
     "text": [
      "Epoch 1/10\n",
      "6453/6453 [==============================] - ETA: 512s - loss: 5.0410 - categorical_crossentropy: 5.0410 - acc: 0.03 - ETA: 465s - loss: 4.9963 - categorical_crossentropy: 4.9963 - acc: 0.03 - ETA: 428s - loss: 4.8538 - categorical_crossentropy: 4.8538 - acc: 0.03 - ETA: 391s - loss: 4.7592 - categorical_crossentropy: 4.7592 - acc: 0.03 - ETA: 346s - loss: 4.6927 - categorical_crossentropy: 4.6927 - acc: 0.03 - ETA: 303s - loss: 4.6513 - categorical_crossentropy: 4.6513 - acc: 0.03 - ETA: 261s - loss: 4.6118 - categorical_crossentropy: 4.6118 - acc: 0.03 - ETA: 217s - loss: 4.5771 - categorical_crossentropy: 4.5771 - acc: 0.03 - ETA: 173s - loss: 4.5608 - categorical_crossentropy: 4.5608 - acc: 0.03 - ETA: 129s - loss: 4.5412 - categorical_crossentropy: 4.5412 - acc: 0.03 - ETA: 84s - loss: 4.5227 - categorical_crossentropy: 4.5227 - acc: 0.0373 - ETA: 40s - loss: 4.5057 - categorical_crossentropy: 4.5057 - acc: 0.036 - 587s - loss: 4.4978 - categorical_crossentropy: 4.4978 - acc: 0.0361    \n",
      "Epoch 2/10\n",
      "6453/6453 [==============================] - ETA: 620s - loss: 4.3832 - categorical_crossentropy: 4.3832 - acc: 0.03 - ETA: 532s - loss: 4.3793 - categorical_crossentropy: 4.3793 - acc: 0.02 - ETA: 473s - loss: 4.3636 - categorical_crossentropy: 4.3636 - acc: 0.03 - ETA: 421s - loss: 4.3288 - categorical_crossentropy: 4.3288 - acc: 0.03 - ETA: 373s - loss: 4.3429 - categorical_crossentropy: 4.3429 - acc: 0.03 - ETA: 327s - loss: 4.3458 - categorical_crossentropy: 4.3458 - acc: 0.03 - ETA: 281s - loss: 4.3376 - categorical_crossentropy: 4.3376 - acc: 0.03 - ETA: 233s - loss: 4.3362 - categorical_crossentropy: 4.3362 - acc: 0.03 - ETA: 186s - loss: 4.3401 - categorical_crossentropy: 4.3401 - acc: 0.03 - ETA: 139s - loss: 4.3385 - categorical_crossentropy: 4.3385 - acc: 0.03 - ETA: 92s - loss: 4.3408 - categorical_crossentropy: 4.3408 - acc: 0.0358 - ETA: 44s - loss: 4.3360 - categorical_crossentropy: 4.3360 - acc: 0.036 - 644s - loss: 4.3377 - categorical_crossentropy: 4.3377 - acc: 0.0363    \n",
      "Epoch 3/10\n",
      "6453/6453 [==============================] - ETA: 681s - loss: 4.3919 - categorical_crossentropy: 4.3919 - acc: 0.04 - ETA: 589s - loss: 4.3896 - categorical_crossentropy: 4.3896 - acc: 0.05 - ETA: 529s - loss: 4.3483 - categorical_crossentropy: 4.3483 - acc: 0.05 - ETA: 470s - loss: 4.3422 - categorical_crossentropy: 4.3422 - acc: 0.04 - ETA: 417s - loss: 4.3350 - categorical_crossentropy: 4.3350 - acc: 0.04 - ETA: 363s - loss: 4.3356 - categorical_crossentropy: 4.3356 - acc: 0.04 - ETA: 312s - loss: 4.3432 - categorical_crossentropy: 4.3432 - acc: 0.03 - ETA: 259s - loss: 4.3503 - categorical_crossentropy: 4.3503 - acc: 0.03 - ETA: 207s - loss: 4.3423 - categorical_crossentropy: 4.3423 - acc: 0.03 - ETA: 154s - loss: 4.3448 - categorical_crossentropy: 4.3448 - acc: 0.03 - ETA: 101s - loss: 4.3430 - categorical_crossentropy: 4.3430 - acc: 0.03 - ETA: 48s - loss: 4.3368 - categorical_crossentropy: 4.3368 - acc: 0.0393 - 715s - loss: 4.3288 - categorical_crossentropy: 4.3288 - acc: 0.0414    \n",
      "Epoch 4/10\n",
      "6000/6453 [==========================>...] - ETA: 733s - loss: 4.3559 - categorical_crossentropy: 4.3559 - acc: 0.03 - ETA: 648s - loss: 4.3018 - categorical_crossentropy: 4.3018 - acc: 0.05 - ETA: 591s - loss: 4.2977 - categorical_crossentropy: 4.2977 - acc: 0.04 - ETA: 528s - loss: 4.3019 - categorical_crossentropy: 4.3019 - acc: 0.04 - ETA: 465s - loss: 4.3170 - categorical_crossentropy: 4.3170 - acc: 0.04 - ETA: 409s - loss: 4.3205 - categorical_crossentropy: 4.3205 - acc: 0.04 - ETA: 351s - loss: 4.3142 - categorical_crossentropy: 4.3142 - acc: 0.04 - ETA: 293s - loss: 4.3029 - categorical_crossentropy: 4.3029 - acc: 0.04 - ETA: 234s - loss: 4.3093 - categorical_crossentropy: 4.3093 - acc: 0.04 - ETA: 175s - loss: 4.3133 - categorical_crossentropy: 4.3133 - acc: 0.04 - ETA: 115s - loss: 4.3145 - categorical_crossentropy: 4.3145 - acc: 0.04 - ETA: 54s - loss: 4.3114 - categorical_crossentropy: 4.3114 - acc: 0.0397 "
     ]
    }
   ],
   "source": [
    "filepath = \".\\\\Weights\\\\weights-improvement-{epoch}-singleMidi.hdf5\"    \n",
    "checkpoint = ModelCheckpoint(\n",
    "    filepath, monitor='loss', \n",
    "    verbose=0,        \n",
    "    save_best_only=True,        \n",
    "    mode='min'\n",
    ")    \n",
    "callbacks_list = [checkpoint]     \n",
    "history = model.fit(network_input, network_output, epochs=10, batch_size=500, callbacks=callbacks_list)\n",
    "plot_training_curves(history.history);"
   ]
  },
  {
   "cell_type": "code",
   "execution_count": null,
   "metadata": {
    "collapsed": true
   },
   "outputs": [],
   "source": [
    "model = Sequential()\n",
    "model.add(LSTM(256,input_shape=(network_input.shape[1], network_input.shape[2]),return_sequences=True))\n",
    "model.add(Dropout(0.25))\n",
    "model.add(LSTM(256))\n",
    "model.add(Dense(n_vocab,activation='softmax'))\n",
    "model.load_weights('.\\\\Weights\\\\weights-improvement-9-singleMidi.hdf5')\n",
    "model.compile(loss='categorical_crossentropy', optimizer='rmsprop',metrics=['categorical_crossentropy','accuracy'])\n",
    "model.summary()\n"
   ]
  },
  {
   "cell_type": "code",
   "execution_count": null,
   "metadata": {
    "collapsed": true
   },
   "outputs": [],
   "source": [
    "# Load the weights to each node\n",
    "\n",
    "model.evaluate(network_input,network_output,verbose=1)"
   ]
  },
  {
   "cell_type": "code",
   "execution_count": null,
   "metadata": {
    "collapsed": true
   },
   "outputs": [],
   "source": [
    "start = np.random.randint(0, len(network_input)-1)\n",
    "int_to_note = dict((number, note) for number, note in enumerate(pitchnames))\n",
    "pattern = network_input[start]\n",
    "prediction_output = []\n",
    "pattern=list(pattern)\n",
    "# generate 500 notes\n",
    "for note_index in range(500):\n",
    "    prediction_input = np.reshape(pattern, (1, len(pattern), 1))\n",
    "    prediction_input = prediction_input / float(n_vocab)\n",
    "    prediction = model.predict(prediction_input, verbose=0)\n",
    "    index = np.argmax(prediction)\n",
    "    result = int_to_note[index]\n",
    "    prediction_output.append(result)\n",
    "    pattern.append(index)\n",
    "    pattern = pattern[1:len(pattern)]"
   ]
  },
  {
   "cell_type": "code",
   "execution_count": null,
   "metadata": {
    "collapsed": true
   },
   "outputs": [],
   "source": [
    "offset = 0\n",
    "output_notes = []\n",
    "# create note and chord objects based on the values generated by the model\n",
    "for pattern in prediction_output:\n",
    "    # pattern is a chord\n",
    "    if ('.' in pattern) or pattern.isdigit():\n",
    "        notes_in_chord = pattern.split('.')\n",
    "        notes = []\n",
    "        for current_note in notes_in_chord:\n",
    "            new_note = note.Note(int(current_note))\n",
    "            new_note.storedInstrument = instrument.Piano()\n",
    "            notes.append(new_note)\n",
    "        new_chord = chord.Chord(notes)\n",
    "        new_chord.offset = offset\n",
    "        output_notes.append(new_chord)\n",
    "    # pattern is a note\n",
    "    else:\n",
    "        new_note = note.Note(pattern)\n",
    "        new_note.offset = offset\n",
    "        new_note.storedInstrument = instrument.Piano()\n",
    "        output_notes.append(new_note)\n",
    "    # increase offset each iteration so that notes do not stack\n",
    "    offset += 0.5"
   ]
  },
  {
   "cell_type": "code",
   "execution_count": null,
   "metadata": {
    "collapsed": true
   },
   "outputs": [],
   "source": [
    "midi_stream = stream.Stream(output_notes)\n",
    "midi_stream.write('midi', fp='test_output_500.mid')"
   ]
  },
  {
   "cell_type": "code",
   "execution_count": null,
   "metadata": {
    "collapsed": true
   },
   "outputs": [],
   "source": []
  }
 ],
 "metadata": {
  "kernelspec": {
   "display_name": "Python 3",
   "language": "python",
   "name": "python3"
  },
  "language_info": {
   "codemirror_mode": {
    "name": "ipython",
    "version": 3
   },
   "file_extension": ".py",
   "mimetype": "text/x-python",
   "name": "python",
   "nbconvert_exporter": "python",
   "pygments_lexer": "ipython3",
   "version": "3.6.3"
  }
 },
 "nbformat": 4,
 "nbformat_minor": 2
}
