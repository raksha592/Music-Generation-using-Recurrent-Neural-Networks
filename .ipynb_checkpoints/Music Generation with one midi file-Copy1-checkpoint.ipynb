{
 "cells": [
  {
   "cell_type": "code",
   "execution_count": 13,
   "metadata": {},
   "outputs": [
    {
     "name": "stderr",
     "output_type": "stream",
     "text": [
      "Using TensorFlow backend.\n"
     ]
    }
   ],
   "source": [
    "import numpy as np\n",
    "import tensorflow as tf\n",
    "import pandas as pd\n",
    "import glob\n",
    "from tqdm import tqdm\n",
    "from music21 import *\n",
    "from tensorflow.python.ops import control_flow_ops\n",
    "from keras.models import Sequential\n",
    "from keras.layers import Dense\n",
    "from keras.layers import Dropout\n",
    "from keras.layers import LSTM\n",
    "from keras.layers import Activation\n",
    "from keras.utils import np_utils\n",
    "from keras.callbacks import ModelCheckpoint"
   ]
  },
  {
   "cell_type": "code",
   "execution_count": 3,
   "metadata": {
    "collapsed": true
   },
   "outputs": [],
   "source": [
    "s = converter.parse('elise.mid')"
   ]
  },
  {
   "cell_type": "code",
   "execution_count": 7,
   "metadata": {
    "collapsed": true
   },
   "outputs": [],
   "source": [
    "notes = []\n",
    "for file in glob.glob(\"*.mid\"):\n",
    "    midi = converter.parse(file)\n",
    "    notes_to_parse = None\n",
    "    parts = instrument.partitionByInstrument(midi)\n",
    "    if parts: # file has instrument parts\n",
    "        notes_to_parse = parts.parts[0].recurse()\n",
    "    else: # file has notes in a flat structure\n",
    "        notes_to_parse = midi.flat.notes\n",
    "    for element in notes_to_parse:\n",
    "        if isinstance(element, note.Note):\n",
    "            notes.append(str(element.pitch))\n",
    "        elif isinstance(element, chord.Chord):\n",
    "            notes.append('.'.join(str(n) for n in element.normalOrder))"
   ]
  },
  {
   "cell_type": "code",
   "execution_count": 11,
   "metadata": {
    "collapsed": true
   },
   "outputs": [],
   "source": [
    "n_vocab=len(set(notes))"
   ]
  },
  {
   "cell_type": "code",
   "execution_count": 14,
   "metadata": {
    "collapsed": true
   },
   "outputs": [],
   "source": [
    "sequence_length = 100\n",
    "# get all pitch names\n",
    "pitchnames = sorted(set(item for item in notes))\n",
    "# create a dictionary to map pitches to integers\n",
    "note_to_int = dict((note, number) for number, note in enumerate(pitchnames))\n",
    "network_input = []\n",
    "network_output = []\n",
    "# create input sequences and the corresponding outputs\n",
    "for i in range(0, len(notes) - sequence_length, 1):\n",
    "    sequence_in = notes[i:i + sequence_length]\n",
    "    sequence_out = notes[i + sequence_length]\n",
    "    network_input.append([note_to_int[char] for char in sequence_in])\n",
    "    network_output.append(note_to_int[sequence_out])\n",
    "n_patterns = len(network_input)\n",
    "# reshape the input into a format compatible with LSTM layers\n",
    "network_input = np.reshape(network_input, (n_patterns, sequence_length, 1))\n",
    "# normalize input\n",
    "network_input = network_input / float(n_vocab)\n",
    "network_output = np_utils.to_categorical(network_output)"
   ]
  },
  {
   "cell_type": "code",
   "execution_count": 18,
   "metadata": {
    "collapsed": true
   },
   "outputs": [],
   "source": [
    "model = Sequential()\n",
    "model.add(LSTM(256,input_shape=(network_input.shape[1], network_input.shape[2]),return_sequences=True))\n",
    "model.add(Dropout(0.3))\n",
    "model.add(LSTM(512, return_sequences=True))\n",
    "model.add(Dropout(0.3))\n",
    "model.add(LSTM(256))\n",
    "model.add(Dense(256))\n",
    "model.add(Dropout(0.3))\n",
    "model.add(Dense(n_vocab))\n",
    "model.add(Activation('softmax'))\n",
    "model.compile(loss='categorical_crossentropy', optimizer='rmsprop')"
   ]
  },
  {
   "cell_type": "code",
   "execution_count": 19,
   "metadata": {},
   "outputs": [
    {
     "name": "stdout",
     "output_type": "stream",
     "text": [
      "Epoch 1/10\n",
      "829/829 [==============================] - ETA: 1:54 - loss: 4.381 - ETA: 1:25 - loss: 4.246 - ETA: 1:11 - loss: 4.298 - ETA: 1:01 - loss: 4.302 - ETA: 54s - loss: 4.276 - ETA: 46s - loss: 4.23 - ETA: 39s - loss: 4.21 - ETA: 32s - loss: 4.18 - ETA: 26s - loss: 4.15 - ETA: 19s - loss: 4.10 - ETA: 12s - loss: 4.07 - ETA: 6s - loss: 4.0380 - 85s 102ms/step - loss: 4.0267\n",
      "Epoch 2/10\n",
      "829/829 [==============================] - ETA: 1:17 - loss: 3.584 - ETA: 1:10 - loss: 3.488 - ETA: 1:03 - loss: 3.591 - ETA: 57s - loss: 3.593 - ETA: 50s - loss: 3.58 - ETA: 44s - loss: 3.61 - ETA: 38s - loss: 3.59 - ETA: 31s - loss: 3.58 - ETA: 25s - loss: 3.58 - ETA: 18s - loss: 3.57 - ETA: 12s - loss: 3.55 - ETA: 6s - loss: 3.5835 - 83s 100ms/step - loss: 3.5857\n",
      "Epoch 3/10\n",
      "829/829 [==============================] - ETA: 1:17 - loss: 3.572 - ETA: 1:10 - loss: 3.596 - ETA: 1:04 - loss: 3.587 - ETA: 57s - loss: 3.616 - ETA: 51s - loss: 3.56 - ETA: 45s - loss: 3.55 - ETA: 38s - loss: 3.53 - ETA: 32s - loss: 3.54 - ETA: 25s - loss: 3.55 - ETA: 19s - loss: 3.55 - ETA: 12s - loss: 3.53 - ETA: 6s - loss: 3.5422 - 84s 101ms/step - loss: 3.5408\n",
      "Epoch 4/10\n",
      "829/829 [==============================] - ETA: 1:18 - loss: 3.617 - ETA: 1:11 - loss: 3.502 - ETA: 1:04 - loss: 3.476 - ETA: 57s - loss: 3.481 - ETA: 50s - loss: 3.50 - ETA: 44s - loss: 3.49 - ETA: 38s - loss: 3.47 - ETA: 31s - loss: 3.43 - ETA: 25s - loss: 3.43 - ETA: 19s - loss: 3.48 - ETA: 12s - loss: 3.50 - ETA: 6s - loss: 3.5081 - 84s 101ms/step - loss: 3.5147\n",
      "Epoch 5/10\n",
      "829/829 [==============================] - ETA: 1:18 - loss: 3.249 - ETA: 1:11 - loss: 3.292 - ETA: 1:04 - loss: 3.319 - ETA: 58s - loss: 3.453 - ETA: 51s - loss: 3.44 - ETA: 45s - loss: 3.49 - ETA: 38s - loss: 3.46 - ETA: 32s - loss: 3.45 - ETA: 25s - loss: 3.44 - ETA: 19s - loss: 3.43 - ETA: 12s - loss: 3.46 - ETA: 6s - loss: 3.4630 - 84s 102ms/step - loss: 3.4736\n",
      "Epoch 6/10\n",
      "829/829 [==============================] - ETA: 1:18 - loss: 3.460 - ETA: 1:11 - loss: 3.442 - ETA: 1:05 - loss: 3.413 - ETA: 58s - loss: 3.390 - ETA: 51s - loss: 3.37 - ETA: 45s - loss: 3.38 - ETA: 38s - loss: 3.39 - ETA: 32s - loss: 3.39 - ETA: 25s - loss: 3.38 - ETA: 19s - loss: 3.38 - ETA: 12s - loss: 3.39 - ETA: 6s - loss: 3.3954 - 85s 102ms/step - loss: 3.3849\n",
      "Epoch 7/10\n",
      "829/829 [==============================] - ETA: 1:17 - loss: 3.092 - ETA: 1:11 - loss: 3.342 - ETA: 1:04 - loss: 3.418 - ETA: 57s - loss: 3.491 - ETA: 51s - loss: 3.45 - ETA: 45s - loss: 3.40 - ETA: 38s - loss: 3.36 - ETA: 32s - loss: 3.39 - ETA: 25s - loss: 3.38 - ETA: 19s - loss: 3.38 - ETA: 12s - loss: 3.37 - ETA: 6s - loss: 3.3674 - 84s 102ms/step - loss: 3.3539\n",
      "Epoch 8/10\n",
      "829/829 [==============================] - ETA: 1:18 - loss: 3.169 - ETA: 1:11 - loss: 3.209 - ETA: 1:04 - loss: 3.191 - ETA: 58s - loss: 3.219 - ETA: 52s - loss: 3.26 - ETA: 45s - loss: 3.26 - ETA: 38s - loss: 3.20 - ETA: 32s - loss: 3.22 - ETA: 25s - loss: 3.25 - ETA: 19s - loss: 3.27 - ETA: 12s - loss: 3.26 - ETA: 6s - loss: 3.2801 - 84s 102ms/step - loss: 3.2766\n",
      "Epoch 9/10\n",
      "829/829 [==============================] - ETA: 1:14 - loss: 3.026 - ETA: 1:09 - loss: 3.105 - ETA: 1:03 - loss: 3.158 - ETA: 57s - loss: 3.187 - ETA: 51s - loss: 3.18 - ETA: 44s - loss: 3.23 - ETA: 38s - loss: 3.25 - ETA: 32s - loss: 3.22 - ETA: 25s - loss: 3.24 - ETA: 19s - loss: 3.23 - ETA: 12s - loss: 3.24 - ETA: 6s - loss: 3.2590 - 85s 102ms/step - loss: 3.2697\n",
      "Epoch 10/10\n",
      "829/829 [==============================] - ETA: 1:20 - loss: 3.085 - ETA: 1:12 - loss: 3.029 - ETA: 1:05 - loss: 3.120 - ETA: 57s - loss: 3.219 - ETA: 50s - loss: 3.18 - ETA: 44s - loss: 3.25 - ETA: 38s - loss: 3.22 - ETA: 31s - loss: 3.25 - ETA: 25s - loss: 3.25 - ETA: 18s - loss: 3.25 - ETA: 12s - loss: 3.22 - ETA: 6s - loss: 3.2229 - 84s 101ms/step - loss: 3.2088\n"
     ]
    },
    {
     "data": {
      "text/plain": [
       "<keras.callbacks.History at 0x1b8e80fd8d0>"
      ]
     },
     "execution_count": 19,
     "metadata": {},
     "output_type": "execute_result"
    }
   ],
   "source": [
    "filepath = \"weights-improvement-{epoch:02d}-{loss:.4f}-bigger.hdf5\"    \n",
    "checkpoint = ModelCheckpoint(\n",
    "    filepath, monitor='loss', \n",
    "    verbose=0,        \n",
    "    save_best_only=True,        \n",
    "    mode='min'\n",
    ")    \n",
    "callbacks_list = [checkpoint]     \n",
    "model.fit(network_input, network_output, epochs=10, batch_size=64, callbacks=callbacks_list)"
   ]
  },
  {
   "cell_type": "code",
   "execution_count": 29,
   "metadata": {
    "collapsed": true
   },
   "outputs": [],
   "source": [
    "model = Sequential()\n",
    "model.add(LSTM(512,input_shape=(network_input.shape[1], network_input.shape[2]),return_sequences=True))\n",
    "model.add(Dropout(0.3))\n",
    "model.add(LSTM(512, return_sequences=True))\n",
    "model.add(Dropout(0.3))\n",
    "model.add(LSTM(512))\n",
    "model.add(Dense(256))\n",
    "model.add(Dropout(0.3))\n",
    "model.add(Dense(n_vocab))\n",
    "model.add(Activation('softmax'))\n",
    "model.compile(loss='categorical_crossentropy', optimizer='rmsprop')\n"
   ]
  },
  {
   "cell_type": "code",
   "execution_count": 1,
   "metadata": {},
   "outputs": [],
   "source": [
    "# Load the weights to each node\n",
    "#model.load_weights('weights-improvement-09-3.2697-bigger.hdf5')"
   ]
  },
  {
   "cell_type": "code",
   "execution_count": 45,
   "metadata": {
    "collapsed": true
   },
   "outputs": [],
   "source": [
    "start = np.random.randint(0, len(network_input)-1)\n",
    "int_to_note = dict((number, note) for number, note in enumerate(pitchnames))\n",
    "pattern = network_input[start]\n",
    "prediction_output = []\n",
    "pattern=list(pattern)\n",
    "# generate 500 notes\n",
    "for note_index in range(500):\n",
    "    prediction_input = np.reshape(pattern, (1, len(pattern), 1))\n",
    "    prediction_input = prediction_input / float(n_vocab)\n",
    "    prediction = model.predict(prediction_input, verbose=0)\n",
    "    index = np.argmax(prediction)\n",
    "    result = int_to_note[index]\n",
    "    prediction_output.append(result)\n",
    "    pattern.append(index)\n",
    "    pattern = pattern[1:len(pattern)]"
   ]
  },
  {
   "cell_type": "code",
   "execution_count": 46,
   "metadata": {
    "collapsed": true
   },
   "outputs": [],
   "source": [
    "offset = 0\n",
    "output_notes = []\n",
    "# create note and chord objects based on the values generated by the model\n",
    "for pattern in prediction_output:\n",
    "    # pattern is a chord\n",
    "    if ('.' in pattern) or pattern.isdigit():\n",
    "        notes_in_chord = pattern.split('.')\n",
    "        notes = []\n",
    "        for current_note in notes_in_chord:\n",
    "            new_note = note.Note(int(current_note))\n",
    "            new_note.storedInstrument = instrument.Piano()\n",
    "            notes.append(new_note)\n",
    "        new_chord = chord.Chord(notes)\n",
    "        new_chord.offset = offset\n",
    "        output_notes.append(new_chord)\n",
    "    # pattern is a note\n",
    "    else:\n",
    "        new_note = note.Note(pattern)\n",
    "        new_note.offset = offset\n",
    "        new_note.storedInstrument = instrument.Piano()\n",
    "        output_notes.append(new_note)\n",
    "    # increase offset each iteration so that notes do not stack\n",
    "    offset += 0.5"
   ]
  },
  {
   "cell_type": "code",
   "execution_count": 47,
   "metadata": {},
   "outputs": [
    {
     "data": {
      "text/plain": [
       "'test_output.mid'"
      ]
     },
     "execution_count": 47,
     "metadata": {},
     "output_type": "execute_result"
    }
   ],
   "source": [
    "midi_stream = stream.Stream(output_notes)\n",
    "midi_stream.write('midi', fp='test_output.mid')"
   ]
  },
  {
   "cell_type": "code",
   "execution_count": null,
   "metadata": {
    "collapsed": true
   },
   "outputs": [],
   "source": []
  }
 ],
 "metadata": {
  "kernelspec": {
   "display_name": "Python 3",
   "language": "python",
   "name": "python3"
  },
  "language_info": {
   "codemirror_mode": {
    "name": "ipython",
    "version": 3
   },
   "file_extension": ".py",
   "mimetype": "text/x-python",
   "name": "python",
   "nbconvert_exporter": "python",
   "pygments_lexer": "ipython3",
   "version": "3.6.3"
  }
 },
 "nbformat": 4,
 "nbformat_minor": 2
}
