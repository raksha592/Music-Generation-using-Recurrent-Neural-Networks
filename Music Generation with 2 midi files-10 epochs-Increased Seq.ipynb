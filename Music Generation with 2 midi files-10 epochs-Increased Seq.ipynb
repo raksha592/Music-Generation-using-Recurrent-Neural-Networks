{
 "cells": [
  {
   "cell_type": "code",
   "execution_count": null,
   "metadata": {
    "collapsed": true
   },
   "outputs": [],
   "source": [
    "#!pip install tensorflow\n",
    "#!pip install tqdm\n",
    "#!pip install --upgrade music21\n",
    "#!pip install pandas\n",
    "#!pip install glob\n",
    "#!pip install KERAS\n"
   ]
  },
  {
   "cell_type": "code",
   "execution_count": 4,
   "metadata": {},
   "outputs": [],
   "source": [
    "import numpy as np\n",
    "import tensorflow as tf\n",
    "import pandas as pd\n",
    "import glob\n",
    "from tqdm import tqdm\n",
    "from music21 import *\n",
    "from tensorflow.python.ops import control_flow_ops\n",
    "from keras.models import Sequential\n",
    "from keras.layers import Dense\n",
    "from keras.layers import Dropout\n",
    "from keras.layers import LSTM\n",
    "from keras.layers import Activation\n",
    "from keras.utils import np_utils\n",
    "from keras.callbacks import ModelCheckpoint"
   ]
  },
  {
   "cell_type": "code",
   "execution_count": 5,
   "metadata": {
    "collapsed": true
   },
   "outputs": [],
   "source": [
    "s = converter.parse('elise.mid')"
   ]
  },
  {
   "cell_type": "code",
   "execution_count": 6,
   "metadata": {},
   "outputs": [],
   "source": [
    "notes = []\n",
    "for file in glob.glob(\"*.mid\"):\n",
    "    midi = converter.parse(file)\n",
    "    notes_to_parse = None\n",
    "    parts = instrument.partitionByInstrument(midi)\n",
    "    if parts: # file has instrument parts\n",
    "        notes_to_parse = parts.parts[0].recurse()\n",
    "    else: # file has notes in a flat structure\n",
    "        notes_to_parse = midi.flat.notes\n",
    "    for element in notes_to_parse:\n",
    "        if isinstance(element, note.Note):\n",
    "            notes.append(str(element.pitch))\n",
    "        elif isinstance(element, chord.Chord):\n",
    "            notes.append('.'.join(str(n) for n in element.normalOrder))"
   ]
  },
  {
   "cell_type": "code",
   "execution_count": 7,
   "metadata": {},
   "outputs": [
    {
     "name": "stdout",
     "output_type": "stream",
     "text": [
      "162\n"
     ]
    }
   ],
   "source": [
    "n_vocab=len(set(notes))\n",
    "print(n_vocab)"
   ]
  },
  {
   "cell_type": "code",
   "execution_count": 8,
   "metadata": {
    "collapsed": true
   },
   "outputs": [],
   "source": [
    "sequence_length = 500\n",
    "# get all pitch names\n",
    "pitchnames = sorted(set(item for item in notes))\n",
    "# create a dictionary to map pitches to integers\n",
    "note_to_int = dict((note, number) for number, note in enumerate(pitchnames))\n",
    "network_input = []\n",
    "network_output = []\n",
    "# create input sequences and the corresponding outputs\n",
    "for i in range(0, len(notes) - sequence_length, 1):\n",
    "    sequence_in = notes[i:i + sequence_length]\n",
    "    sequence_out = notes[i + sequence_length]\n",
    "    network_input.append([note_to_int[char] for char in sequence_in])\n",
    "    network_output.append(note_to_int[sequence_out])\n",
    "n_patterns = len(network_input)\n",
    "# reshape the input into a format compatible with LSTM layers\n",
    "network_input = np.reshape(network_input, (n_patterns, sequence_length, 1))\n",
    "# normalize input\n",
    "network_input = network_input / float(n_vocab)\n",
    "network_output = np_utils.to_categorical(network_output)"
   ]
  },
  {
   "cell_type": "code",
   "execution_count": 9,
   "metadata": {
    "collapsed": true
   },
   "outputs": [],
   "source": [
    "model = Sequential()\n",
    "model.add(LSTM(256,input_shape=(network_input.shape[1], network_input.shape[2]),return_sequences=True))\n",
    "model.add(Dropout(0.3))\n",
    "model.add(LSTM(512, return_sequences=True))\n",
    "model.add(Dropout(0.3))\n",
    "model.add(LSTM(256))\n",
    "model.add(Dense(256))\n",
    "model.add(Dropout(0.3))\n",
    "model.add(Dense(n_vocab))\n",
    "model.add(Activation('softmax'))\n",
    "model.compile(loss='categorical_crossentropy', optimizer='rmsprop')"
   ]
  },
  {
   "cell_type": "code",
   "execution_count": null,
   "metadata": {},
   "outputs": [
    {
     "name": "stdout",
     "output_type": "stream",
     "text": [
      "Epoch 1/5\n",
      "5045/5045 [==============================] - ETA: 1253s - loss: 5.08 - ETA: 1395s - loss: 5.02 - ETA: 1461s - loss: 5.09 - ETA: 1533s - loss: 5.00 - ETA: 1579s - loss: 4.91 - ETA: 1647s - loss: 4.82 - ETA: 1689s - loss: 4.76 - ETA: 1706s - loss: 4.76 - ETA: 1731s - loss: 4.73 - ETA: 1752s - loss: 4.69 - ETA: 1789s - loss: 4.67 - ETA: 1819s - loss: 4.66 - ETA: 1838s - loss: 4.63 - ETA: 1877s - loss: 4.61 - ETA: 1902s - loss: 4.60 - ETA: 1961s - loss: 4.60 - ETA: 1998s - loss: 4.60 - ETA: 2024s - loss: 4.59 - ETA: 2050s - loss: 4.58 - ETA: 2088s - loss: 4.57 - ETA: 2123s - loss: 4.57 - ETA: 2147s - loss: 4.55 - ETA: 2161s - loss: 4.55 - ETA: 2171s - loss: 4.55 - ETA: 2166s - loss: 4.54 - ETA: 2176s - loss: 4.54 - ETA: 2180s - loss: 4.53 - ETA: 2178s - loss: 4.53 - ETA: 2165s - loss: 4.52 - ETA: 2154s - loss: 4.52 - ETA: 2132s - loss: 4.51 - ETA: 2115s - loss: 4.51 - ETA: 2097s - loss: 4.51 - ETA: 2076s - loss: 4.50 - ETA: 2049s - loss: 4.50 - ETA: 2026s - loss: 4.49 - ETA: 2008s - loss: 4.49 - ETA: 1986s - loss: 4.48 - ETA: 1953s - loss: 4.48 - ETA: 1918s - loss: 4.48 - ETA: 1887s - loss: 4.47 - ETA: 1856s - loss: 4.47 - ETA: 1820s - loss: 4.47 - ETA: 1785s - loss: 4.46 - ETA: 1749s - loss: 4.46 - ETA: 1714s - loss: 4.46 - ETA: 1678s - loss: 4.46 - ETA: 1637s - loss: 4.46 - ETA: 1591s - loss: 4.45 - ETA: 1547s - loss: 4.45 - ETA: 1499s - loss: 4.45 - ETA: 1457s - loss: 4.45 - ETA: 1413s - loss: 4.45 - ETA: 1369s - loss: 4.45 - ETA: 1321s - loss: 4.45 - ETA: 1274s - loss: 4.45 - ETA: 1223s - loss: 4.44 - ETA: 1172s - loss: 4.44 - ETA: 1122s - loss: 4.43 - ETA: 1072s - loss: 4.43 - ETA: 1020s - loss: 4.43 - ETA: 968s - loss: 4.4300 - ETA: 918s - loss: 4.430 - ETA: 866s - loss: 4.427 - ETA: 811s - loss: 4.424 - ETA: 756s - loss: 4.423 - ETA: 700s - loss: 4.416 - ETA: 644s - loss: 4.416 - ETA: 587s - loss: 4.411 - ETA: 529s - loss: 4.405 - ETA: 471s - loss: 4.401 - ETA: 413s - loss: 4.401 - ETA: 354s - loss: 4.398 - ETA: 294s - loss: 4.397 - ETA: 234s - loss: 4.399 - ETA: 173s - loss: 4.395 - ETA: 112s - loss: 4.394 - ETA: 51s - loss: 4.392 - 4879s - loss: 4.3922   \n",
      "Epoch 2/5\n",
      "5045/5045 [==============================] - ETA: 5143s - loss: 4.08 - ETA: 5334s - loss: 4.23 - ETA: 5082s - loss: 4.27 - ETA: 5179s - loss: 4.31 - ETA: 5179s - loss: 4.32 - ETA: 5126s - loss: 4.31 - ETA: 5077s - loss: 4.35 - ETA: 5075s - loss: 4.33 - ETA: 5054s - loss: 4.34 - ETA: 4974s - loss: 4.32 - ETA: 4947s - loss: 4.31 - ETA: 4906s - loss: 4.30 - ETA: 4843s - loss: 4.29 - ETA: 4752s - loss: 4.29 - ETA: 4662s - loss: 4.29 - ETA: 4600s - loss: 4.29 - ETA: 4535s - loss: 4.30 - ETA: 4466s - loss: 4.29 - ETA: 4396s - loss: 4.28 - ETA: 4342s - loss: 4.27 - ETA: 4282s - loss: 4.27 - ETA: 4200s - loss: 4.27 - ETA: 4126s - loss: 4.27 - ETA: 4056s - loss: 4.29 - ETA: 3992s - loss: 4.29 - ETA: 3923s - loss: 4.29 - ETA: 3843s - loss: 4.29 - ETA: 3777s - loss: 4.28 - ETA: 3705s - loss: 4.28 - ETA: 3636s - loss: 4.28 - ETA: 3552s - loss: 4.28 - ETA: 3478s - loss: 4.29 - ETA: 3400s - loss: 4.28 - ETA: 3320s - loss: 4.27 - ETA: 3248s - loss: 4.26 - ETA: 3184s - loss: 4.26 - ETA: 3113s - loss: 4.26 - ETA: 3040s - loss: 4.26 - ETA: 2966s - loss: 4.27 - ETA: 2890s - loss: 4.27 - ETA: 2809s - loss: 4.27 - ETA: 2744s - loss: 4.27 - ETA: 2672s - loss: 4.27 - ETA: 2600s - loss: 4.27 - ETA: 2532s - loss: 4.27 - ETA: 2451s - loss: 4.27 - ETA: 2378s - loss: 4.27 - ETA: 2307s - loss: 4.27 - ETA: 2233s - loss: 4.27 - ETA: 2154s - loss: 4.27 - ETA: 2076s - loss: 4.27 - ETA: 2003s - loss: 4.27 - ETA: 1930s - loss: 4.28 - ETA: 1857s - loss: 4.27 - ETA: 1783s - loss: 4.28 - ETA: 1710s - loss: 4.27 - ETA: 1637s - loss: 4.27 - ETA: 1561s - loss: 4.27 - ETA: 1485s - loss: 4.27 - ETA: 1410s - loss: 4.27 - ETA: 1338s - loss: 4.27 - ETA: 1264s - loss: 4.26 - ETA: 1188s - loss: 4.27 - ETA: 1113s - loss: 4.26 - ETA: 1037s - loss: 4.26 - ETA: 964s - loss: 4.2734 - ETA: 889s - loss: 4.272 - ETA: 815s - loss: 4.274 - ETA: 741s - loss: 4.272 - ETA: 666s - loss: 4.271 - ETA: 592s - loss: 4.274 - ETA: 517s - loss: 4.273 - ETA: 441s - loss: 4.269 - ETA: 366s - loss: 4.272 - ETA: 290s - loss: 4.271 - ETA: 214s - loss: 4.270 - ETA: 138s - loss: 4.270 - ETA: 62s - loss: 4.272 - 5973s - loss: 4.2711   \n",
      "Epoch 3/5\n",
      "2496/5045 [=============>................] - ETA: 6441s - loss: 4.12 - ETA: 6640s - loss: 4.18 - ETA: 6392s - loss: 4.24 - ETA: 6343s - loss: 4.25 - ETA: 6266s - loss: 4.24 - ETA: 6152s - loss: 4.35 - ETA: 6009s - loss: 4.35 - ETA: 5860s - loss: 4.32 - ETA: 5727s - loss: 4.32 - ETA: 5622s - loss: 4.30 - ETA: 5566s - loss: 4.28 - ETA: 5464s - loss: 4.27 - ETA: 5382s - loss: 4.28 - ETA: 5297s - loss: 4.27 - ETA: 5229s - loss: 4.26 - ETA: 5153s - loss: 4.27 - ETA: 5074s - loss: 4.26 - ETA: 4977s - loss: 4.27 - ETA: 4932s - loss: 4.26 - ETA: 4870s - loss: 4.26 - ETA: 4810s - loss: 4.27 - ETA: 4742s - loss: 4.27 - ETA: 4667s - loss: 4.26 - ETA: 4583s - loss: 4.26 - ETA: 4503s - loss: 4.25 - ETA: 4417s - loss: 4.25 - ETA: 4347s - loss: 4.25 - ETA: 4274s - loss: 4.25 - ETA: 4205s - loss: 4.25 - ETA: 4125s - loss: 4.25 - ETA: 4046s - loss: 4.25 - ETA: 3955s - loss: 4.25 - ETA: 3879s - loss: 4.25 - ETA: 3793s - loss: 4.25 - ETA: 3712s - loss: 4.25 - ETA: 3631s - loss: 4.26 - ETA: 3547s - loss: 4.25 - ETA: 3476s - loss: 4.25 - ETA: 3401s - loss: 4.2507"
     ]
    }
   ],
   "source": [
    "filepath = \"weights-improvement-{epoch:02d}-{loss:.4f}-bigger-2MIDI.hdf5\"    \n",
    "checkpoint = ModelCheckpoint(\n",
    "    filepath, monitor='loss', \n",
    "    verbose=0,        \n",
    "    save_best_only=True,        \n",
    "    mode='min'\n",
    ")    \n",
    "callbacks_list = [checkpoint]     \n",
    "model.fit(network_input, network_output, epochs=5, batch_size=64, callbacks=callbacks_list)"
   ]
  },
  {
   "cell_type": "code",
   "execution_count": null,
   "metadata": {
    "collapsed": true
   },
   "outputs": [],
   "source": [
    "model = Sequential()\n",
    "model.add(LSTM(512,input_shape=(network_input.shape[1], network_input.shape[2]),return_sequences=True))\n",
    "model.add(Dropout(0.3))\n",
    "model.add(LSTM(512, return_sequences=True))\n",
    "model.add(Dropout(0.3))\n",
    "model.add(LSTM(512))\n",
    "model.add(Dense(256)) \n",
    "model.add(Dropout(0.3))\n",
    "model.add(Dense(n_vocab))\n",
    "model.add(Activation('softmax'))\n",
    "model.compile(loss='categorical_crossentropy', optimizer='rmsprop')\n"
   ]
  },
  {
   "cell_type": "code",
   "execution_count": 7,
   "metadata": {
    "collapsed": true
   },
   "outputs": [],
   "source": [
    "# Load the weights to each node\n",
    "model.load_weights('weights-improvement-05-3.8923-bigger-2MIDI.hdf5')"
   ]
  },
  {
   "cell_type": "code",
   "execution_count": 11,
   "metadata": {
    "collapsed": true
   },
   "outputs": [],
   "source": [
    "start = np.random.randint(0, len(network_input)-1)\n",
    "int_to_note = dict((number, note) for number, note in enumerate(pitchnames))\n",
    "pattern = network_input[start]\n",
    "prediction_output = []\n",
    "pattern=list(pattern)\n",
    "# generate 500 notes\n",
    "for note_index in range(300):\n",
    "    prediction_input = np.reshape(pattern, (1, len(pattern), 1))\n",
    "    prediction_input = prediction_input / float(n_vocab)\n",
    "    prediction = model.predict(prediction_input, verbose=0)\n",
    "    index = np.argmax(prediction)\n",
    "    result = int_to_note[index]\n",
    "    prediction_output.append(result)\n",
    "    pattern.append(index)\n",
    "    pattern = pattern[1:len(pattern)]"
   ]
  },
  {
   "cell_type": "code",
   "execution_count": 12,
   "metadata": {
    "collapsed": true
   },
   "outputs": [],
   "source": [
    "offset = 0.2\n",
    "output_notes = []\n",
    "# create note and chord objects based on the values generated by the model\n",
    "for pattern in prediction_output:\n",
    "    # pattern is a chord\n",
    "    if ('.' in pattern) or pattern.isdigit():\n",
    "        notes_in_chord = pattern.split('.')\n",
    "        notes = []\n",
    "        for current_note in notes_in_chord:\n",
    "            new_note = note.Note(int(current_note))\n",
    "            new_note.storedInstrument = instrument.Piano()\n",
    "            notes.append(new_note)\n",
    "        new_chord = chord.Chord(notes)\n",
    "        new_chord.offset = offset\n",
    "        output_notes.append(new_chord)\n",
    "    # pattern is a note\n",
    "    else:\n",
    "        new_note = note.Note(pattern)\n",
    "        new_note.offset = offset\n",
    "        new_note.storedInstrument = instrument.Piano()\n",
    "        output_notes.append(new_note)\n",
    "    # increase offset each iteration so that notes do not stack\n",
    "    offset += 0.5"
   ]
  },
  {
   "cell_type": "code",
   "execution_count": 13,
   "metadata": {},
   "outputs": [
    {
     "data": {
      "text/plain": [
       "'2midifileOutput.mid'"
      ]
     },
     "execution_count": 13,
     "metadata": {},
     "output_type": "execute_result"
    }
   ],
   "source": [
    "midi_stream = stream.Stream(output_notes)\n",
    "midi_stream.write('midi', fp='2midifileOutput.mid')"
   ]
  },
  {
   "cell_type": "code",
   "execution_count": null,
   "metadata": {
    "collapsed": true
   },
   "outputs": [],
   "source": []
  }
 ],
 "metadata": {
  "kernelspec": {
   "display_name": "Python 3",
   "language": "python",
   "name": "python3"
  },
  "language_info": {
   "codemirror_mode": {
    "name": "ipython",
    "version": 3
   },
   "file_extension": ".py",
   "mimetype": "text/x-python",
   "name": "python",
   "nbconvert_exporter": "python",
   "pygments_lexer": "ipython3",
   "version": "3.6.3"
  }
 },
 "nbformat": 4,
 "nbformat_minor": 2
}
